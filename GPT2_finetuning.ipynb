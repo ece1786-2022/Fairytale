{
 "cells": [
  {
   "cell_type": "markdown",
   "metadata": {
    "id": "EKOTlwcmxmej"
   },
   "source": [
    "# Fairytale: Generating Story using Fine-tuned GPT-2 Model\n"
   ]
  },
  {
   "cell_type": "markdown",
   "metadata": {},
   "source": [
    "## Alan Du, Navid Hasanzadeh"
   ]
  },
  {
   "cell_type": "markdown",
   "metadata": {
    "id": "NKGBoVwuhM4H"
   },
   "source": [
    "Children’s tales are extremely important in child development as they improve literacy skills, communication skills, and assist with forming ideas of culture/race. Each story contains lessons that highlight important societal values and show children what is right and wrong. \n",
    "Our project, Fairytale, aims to allow anyone to generate a children’s tale with a simple prompt and choose what core values they want to appear in the text, what genre the story is, and the targeted age range.\n"
   ]
  },
  {
   "cell_type": "markdown",
   "metadata": {},
   "source": [
    "### Reference\n",
    "Some parts of this code were borrowed and then customized from an available code for fine-tuning GPT models on HuggingFace:\n",
    "\n",
    "https://huggingface.co/ritwikm/gandhi-gpt/blob/37e8d86c2c884794683f2cdbeca593e84f962f92/code/gpt-finetune.py\n"
   ]
  },
  {
   "cell_type": "markdown",
   "metadata": {
    "id": "Xf3Qw77SZGbS"
   },
   "source": [
    "# Setup"
   ]
  },
  {
   "cell_type": "code",
   "execution_count": 1,
   "metadata": {
    "colab": {
     "base_uri": "https://localhost:8080/"
    },
    "id": "0NmMdkZO8R6q",
    "outputId": "2bc524d1-4586-4caf-eed2-ac3b45d9a623"
   },
   "outputs": [],
   "source": [
    "# !pip install transformers\n",
    "import warnings\n",
    "warnings.filterwarnings('ignore')\n",
    "import shutup; shutup.please()"
   ]
  },
  {
   "cell_type": "code",
   "execution_count": 2,
   "metadata": {
    "colab": {
     "base_uri": "https://localhost:8080/"
    },
    "id": "JCCeyhuDHdOu",
    "outputId": "3b7fbf0b-d484-4bc6-a725-9b059649588c"
   },
   "outputs": [
    {
     "name": "stderr",
     "output_type": "stream",
     "text": [
      "[nltk_data] Downloading package punkt to\n",
      "[nltk_data]     C:\\Users\\16478\\AppData\\Roaming\\nltk_data...\n",
      "[nltk_data]   Package punkt is already up-to-date!\n"
     ]
    },
    {
     "data": {
      "text/plain": [
       "True"
      ]
     },
     "execution_count": 2,
     "metadata": {},
     "output_type": "execute_result"
    }
   ],
   "source": [
    "import os\n",
    "import time\n",
    "import datetime\n",
    "\n",
    "import pandas as pd\n",
    "import seaborn as sns\n",
    "import numpy as np\n",
    "import random\n",
    "\n",
    "import matplotlib.pyplot as plt\n",
    "%matplotlib inline\n",
    "\n",
    "import torch\n",
    "from torch.utils.data import Dataset, DataLoader, random_split, RandomSampler, SequentialSampler\n",
    "torch.manual_seed(42)\n",
    "\n",
    "from transformers import GPT2LMHeadModel,  GPT2Tokenizer, GPT2Config, GPT2LMHeadModel\n",
    "from transformers import AdamW, get_linear_schedule_with_warmup\n",
    "\n",
    "import nltk\n",
    "nltk.download('punkt')"
   ]
  },
  {
   "cell_type": "markdown",
   "metadata": {
    "id": "ZfdCML6Parvv"
   },
   "source": [
    "# Story Pre-processing and Labelling\n",
    "\n",
    "We collected 720 stories from various sources on the Internet. These texts vary from 100-500 words in length. Each story is labeled with the genre, 2 age ratings, and values in with the text. Below are the steps we used to process our data:\n",
    "\n",
    "1. Clean the text (remove leading/trailing whitespace and non-UTF8 characters)\n",
    "\n",
    "2. Manually trim word count if story is longer than 500 words\n",
    "\n",
    "3. Skim through the story and assign values present in the story\n",
    "\n",
    "4. Manually assign genre if available or generate a predicted genre using a pre-trained genre predicting model [3]\n",
    "\n",
    "5. Generate age and kids labels.\n",
    "\n",
    "    a) Age label represents the corresponding US grade level (i.e. age = 3 is grade 3). This was calculated using an average grade score of 8 different standardized text difficulty scales.\n",
    "    \n",
    "    b) Kids label represents the presence of kids appropriate words in the text based off the Cambridge criterion for English vocabulary\n",
    "\n",
    "We also used a oublic dataset with more than 30,000 stories with defferent genres."
   ]
  },
  {
   "cell_type": "code",
   "execution_count": 17,
   "metadata": {
    "id": "vFNGGilosN6v"
   },
   "outputs": [],
   "source": [
    "from pathlib import Path \n",
    "filename = \"final_data_for_gpt2.txt\"\n",
    "base_path = \"./\"\n",
    "text = Path(base_path, filename).read_text(encoding='utf-8')"
   ]
  },
  {
   "cell_type": "code",
   "execution_count": 18,
   "metadata": {
    "id": "h0bVew_osr12"
   },
   "outputs": [],
   "source": [
    "stories = text.split('\\n')\n",
    "stories = [s.strip() for s in stories if len(s)>1]"
   ]
  },
  {
   "cell_type": "code",
   "execution_count": 21,
   "metadata": {},
   "outputs": [
    {
     "name": "stdout",
     "output_type": "stream",
     "text": [
      "<drama> Life is going along smoothly for Jeff and Mari Thompson but not for any other couple they know, or so it seems. Everyone they know is getting divorced.  Their life is disrupted when Mari's old college friend, Barbara, comes into it and begins a fling with Jeff, which causes Mari to contemplate an affair of her own.\n"
     ]
    }
   ],
   "source": [
    "sample_story = stories[1]\n",
    "print(sample_story)"
   ]
  },
  {
   "cell_type": "code",
   "execution_count": 22,
   "metadata": {},
   "outputs": [],
   "source": [
    "from data.process_genre import get_genre as get_genre_old\n",
    "from data.process_age import calculate_grade\n",
    "from data.process_age import is_for_kids"
   ]
  },
  {
   "cell_type": "code",
   "execution_count": 25,
   "metadata": {},
   "outputs": [],
   "source": [
    "genre_dict = {\"sci_fi\": \"science_fiction\", \"horror\": \"horror\", \"action\": \"horror\", \n",
    "              \"thriller\": \"horror\", \"drama\": \"realistic_fiction\", \"superhero\":\"fantasy\"}"
   ]
  },
  {
   "cell_type": "code",
   "execution_count": 26,
   "metadata": {},
   "outputs": [],
   "source": [
    "def get_genre(story):\n",
    "    return genre_dict[get_genre_old(story)]"
   ]
  },
  {
   "cell_type": "code",
   "execution_count": 27,
   "metadata": {},
   "outputs": [],
   "source": [
    "def add_labels(story):\n",
    "    if \"<\" and \">\" in story[:50]:\n",
    "        grade = str(int(calculate_grade(story)))\n",
    "        sample_processed_story = \"<{}> \".format(grade)  + story\n",
    "        for g in genre_dict.keys():\n",
    "            if \"<\" + g + \">\" in sample_processed_story:\n",
    "                sample_processed_story = sample_processed_story.replace(\"<\" + g + \">\", \"<\" + genre_dict[g] + \">\")\n",
    "                break\n",
    "    else:\n",
    "        story = story.split('\\t')[1].replace('\"',\"\").replace(\"\\'\",\"\")\n",
    "        genre = get_genre(story)\n",
    "        grade = str(int(calculate_grade(story)))\n",
    "        sample_processed_story = \"<{}> <{}>\".format(grade, genre)  + story\n",
    "    return sample_processed_story"
   ]
  },
  {
   "cell_type": "code",
   "execution_count": 28,
   "metadata": {},
   "outputs": [
    {
     "data": {
      "text/plain": [
       "'<2> <realistic_fiction> Kenny was crying. Why are you crying? Mom asked Kenny. The cat scratched me, said Kenny. The cat had scratched Kenny on his hand. Kenny showed his hand to his mom. The scratch didnt look too bad. It wasnt a deep scratch. Mom went to the kitchen. Kenny went with her. She turned on the water. She put his hand under the water. She washed the scratch with soap. She rinsed off the soap. She took a Band-Aid out of the kitchen cabinet. She put the Band-Aid on the scratch. She said he would be okay. Why did the cat scratch you? she asked. Kenny said he didnt know why the cat scratched him. Just then, Kennys little sister walked into the kitchen. She knew why the cat scratched Kenny. I know why Tiger scratched him, Mommy, she said. He was pulling Tigers tail!'"
      ]
     },
     "execution_count": 28,
     "metadata": {},
     "output_type": "execute_result"
    }
   ],
   "source": [
    "add_labels(stories[-5])"
   ]
  },
  {
   "cell_type": "code",
   "execution_count": 29,
   "metadata": {},
   "outputs": [
    {
     "data": {
      "text/plain": [
       "'<6> <horror> Prince (Vivek Oberoi) is a sharp and intelligent burglar, but when he awakes one morning, he finds that he does not remember anything about his past. He goes to a club and meets a girl who claims to be his girlfriend Maya. The next day, he meets a second girl who claims to be his girlfriend named Maya. She also claims that they work for the police and are after a man named Sarang. She reveals that they must find a special coin and give it to Sarang, after which the cops will arrest him. This coin has a chip in it that can go into one\\'s mind and change one\\'s thoughts completely.  They find the coin inside Prince\\'s shoe and give it to Sarang. Prince finds out that the second \"Maya\" is really a woman named Serena who works for Sarang. His servant P.K. works for Sarang along with her. The coin is revealed to be a fake. Just as Prince is trapped, the real Maya, who is in fact his girlfriend, saves him and tells him the actual story. The chip was put inside Prince so that he could work for Sarang. The two began running away. The chip made Prince\\'s brain like a computer, so that once he woke up from sleep, he would forget everything.  Prince and Maya meet Sarang Chinea, who tells them a side effect: every morning when Prince wakes up, his brain crashes, which results in a lot of pain. He has only six days to live as a result. This particular day was the last day. Prince and Maya find the coin, which can save Prince, and Serena goes after them, leading to a high-profile chase. Prince manages to keep the coin safe but faints. A mysterious car arrives, pulls him in, and flees. Shortly after, Maya gets a phone call, saying she must come to a certain location if she wants Prince alive. The caller is a friend of Prince\\'s named Mike. It is revealed that the first Maya that Prince had met at the club, is actually named Priya. Then Maya calls the police.  Priya takes the coin and runs away with it, but Mike tells Maya that he has the real coin; the one Priya fled with is a fake. While they are fixing an unconscious Prince, Priya returns, begging to be saved, but gets shot by Sarang and his gang. Prince awakes from his deep sleep. Sarang and his gang escape, but Prince puts a tracking device on Sarang. They track him down, and Prince and Sarang engage in a brief fight. Prince ultimately gets the coin and Sarang falls off a waterfall to his death. While Prince and Maya are looking forward to a happily-ever-after, in a twist ending, Serena\\'s eyes open, implying that she is still alive.'"
      ]
     },
     "execution_count": 29,
     "metadata": {},
     "output_type": "execute_result"
    }
   ],
   "source": [
    "add_labels(stories[0])"
   ]
  },
  {
   "cell_type": "code",
   "execution_count": 30,
   "metadata": {},
   "outputs": [],
   "source": [
    "from tqdm import tqdm"
   ]
  },
  {
   "cell_type": "code",
   "execution_count": 19,
   "metadata": {},
   "outputs": [
    {
     "name": "stdout",
     "output_type": "stream",
     "text": [
      "# Total stories in step 1:  33039\n"
     ]
    },
    {
     "name": "stderr",
     "output_type": "stream",
     "text": [
      "100%|████████████████████████████████████████████████████████████████████████████| 33039/33039 [22:05<00:00, 24.92it/s]\n"
     ]
    }
   ],
   "source": [
    "print(\"# Total stories in step 1: \", len(stories))\n",
    "processed_stories = []\n",
    "for i in tqdm(range(len(stories))):\n",
    "    try:\n",
    "        processed_stories.append(add_labels(stories[i]))\n",
    "    except:\n",
    "        pass"
   ]
  },
  {
   "cell_type": "code",
   "execution_count": 34,
   "metadata": {
    "id": "lYlfLfj2tQak"
   },
   "outputs": [],
   "source": [
    "df = pd.DataFrame(processed_stories,columns =['story'])"
   ]
  },
  {
   "cell_type": "code",
   "execution_count": 35,
   "metadata": {
    "colab": {
     "base_uri": "https://localhost:8080/"
    },
    "id": "_U3m6wr3Ahzt",
    "outputId": "87e49021-c5fa-4ad0-9d29-1be68795350d"
   },
   "outputs": [
    {
     "name": "stdout",
     "output_type": "stream",
     "text": [
      "0        <6> <horror> Prince (Vivek Oberoi) is a sharp ...\n",
      "1        <8> <realistic_fiction> Life is going along sm...\n",
      "2        <6> <realistic_fiction> A young girl suddenly ...\n",
      "3        <7> <realistic_fiction> Varghese (Mohanlal) is...\n",
      "4        <9> <horror> When Adrien Williams is released ...\n",
      "                               ...                        \n",
      "33034    <2> <realistic_fiction> Kenny was crying. Why ...\n",
      "33035    <2> <horror> It is December. That means it is ...\n",
      "33036    <4> <realistic_fiction> Present What do you wa...\n",
      "33037    <1> <realistic_fiction> Rex is very sick, Lucy...\n",
      "33038    <2> <horror> Watching Lets go to the beach, Da...\n",
      "Name: story, Length: 33039, dtype: object\n"
     ]
    }
   ],
   "source": [
    "df.dropna(inplace=True) #remove NA values\n",
    "df_story = df.story.copy() #just use the main bio text in this example\n",
    "print(df_story)"
   ]
  },
  {
   "cell_type": "code",
   "execution_count": 22,
   "metadata": {},
   "outputs": [],
   "source": [
    "# df_story.to_csv(\"labelled_data.csv\", index=False)"
   ]
  },
  {
   "cell_type": "code",
   "execution_count": 58,
   "metadata": {},
   "outputs": [
    {
     "name": "stdout",
     "output_type": "stream",
     "text": [
      "0        <6> <horror> Prince (Vivek Oberoi) is a sharp ...\n",
      "1        <8> <realistic_fiction> Life is going along sm...\n",
      "2        <6> <realistic_fiction> A young girl suddenly ...\n",
      "3        <7> <realistic_fiction> Varghese (Mohanlal) is...\n",
      "4        <9> <horror> When Adrien Williams is released ...\n",
      "                               ...                        \n",
      "33034    <2> <realistic_fiction> Kenny was crying. Why ...\n",
      "33035    <2> <horror> It is December. That means it is ...\n",
      "33036    <4> <realistic_fiction> Present What do you wa...\n",
      "33037    <1> <realistic_fiction> Rex is very sick, Lucy...\n",
      "33038    <2> <horror> Watching Lets go to the beach, Da...\n",
      "Name: story, Length: 33039, dtype: object\n"
     ]
    }
   ],
   "source": [
    "df_story = pd.read_csv(\"labelled_data.csv\")\n",
    "df_story.dropna(inplace=True)\n",
    "df_story = df_story.story\n",
    "print(df_story)"
   ]
  },
  {
   "cell_type": "code",
   "execution_count": 36,
   "metadata": {},
   "outputs": [],
   "source": [
    "# count the number of stories in each genre\n",
    "genre_count = {\"science_fiction\": 0, \"horror\": 0, \"realistic_fiction\": 0, \"fantasy\": 0}\n",
    "for s in processed_stories:\n",
    "    for g in set(genre_dict.values()):\n",
    "        if \"<\" + g + \">\" in s:\n",
    "            genre_count[g] += 1\n",
    "            break"
   ]
  },
  {
   "cell_type": "code",
   "execution_count": 37,
   "metadata": {},
   "outputs": [
    {
     "data": {
      "text/plain": [
       "{'science_fiction': 1026,\n",
       " 'horror': 11723,\n",
       " 'realistic_fiction': 20003,\n",
       " 'fantasy': 287}"
      ]
     },
     "execution_count": 37,
     "metadata": {},
     "output_type": "execute_result"
    }
   ],
   "source": [
    "genre_count"
   ]
  },
  {
   "cell_type": "code",
   "execution_count": 38,
   "metadata": {},
   "outputs": [
    {
     "data": {
      "text/plain": [
       "Text(0, 0.5, '# Stories')"
      ]
     },
     "execution_count": 38,
     "metadata": {},
     "output_type": "execute_result"
    },
    {
     "data": {
      "image/png": "[encoded data removed]",
      "text/plain": [
       "<Figure size 640x480 with 1 Axes>"
      ]
     },
     "metadata": {},
     "output_type": "display_data"
    }
   ],
   "source": [
    "import matplotlib.pyplot as plt\n",
    "plt.bar(genre_count.keys(), genre_count.values(), 0.5, color='g')\n",
    "plt.grid()\n",
    "plt.xlabel(\"Genre\")\n",
    "plt.ylabel(\"# Stories\")"
   ]
  },
  {
   "cell_type": "markdown",
   "metadata": {
    "id": "cMml12FJGjPW"
   },
   "source": [
    "# GPT2 Tokenizer"
   ]
  },
  {
   "cell_type": "code",
   "execution_count": 44,
   "metadata": {
    "colab": {
     "base_uri": "https://localhost:8080/",
     "height": 130,
     "referenced_widgets": [
      "532be3d900904a29aa93558685867915",
      "990a31e6827b46e48fd386913ad3837f",
      "481ebd356d114d5cb44fdc5334dd37b0",
      "d90625f733b74e3db3ed961012078d5b",
      "b30153ea49e84394860c7841da627370",
      "eb1abedc1d6f46d5944ff146dbecebb1",
      "f8ecbd81b44c453bb58d75580fe89d05",
      "6840f4a0abfa40dca51ef7f5747a1612",
      "dc71aebdc0f44287a2d28aa2dfc5de67",
      "2faebd742ec7420e808145300b920326",
      "10fcecf139e1487daf09f576b46fb8b9",
      "5331726bf9154b43a5066bee62c788e0",
      "b0288f2b86434ea9b076468aff41658e",
      "0fde73305de44fbd94760d0ea3e1a17b",
      "c97ff76e4c60478c9bb3e3db337b5b56",
      "6d2a0f3da73a4272bc424f13ac8dbd0b",
      "075a9035ec6f4b5f9c821fab3083511a",
      "c3fd9cf8d5ea457ea0650b1dc1762628",
      "4742219e10964f368c1992116044d102",
      "f59be919579e4d17b135659fbeab3f29",
      "62bd56c1d34c4d149b6a110e09357b97",
      "282531fbc28e438c8b1228b4b40a8c7c",
      "580dbac7c89141b2972e69b264092619",
      "68d1b8a8fa7f42ee8927a436e7e8a1ac",
      "66fc5056cb30443abdac0aa3f9601771",
      "7127664762f44e4db4a0f6e5cf9f3b61",
      "e95491e953d44f76af463be70ba4e545",
      "41dd750812ad4491b7fe4f68e3c9cee8",
      "5b055d40cc06436fa6d0c7ad3a428893",
      "304c4d637e89424fb78fc095aee64385",
      "7f09eeac0b5345ee8a94308f151f4361",
      "81c70ad3c6b7404dbcd14c0c10458c43",
      "10c41f61b4504585a53b8100cd830c17"
     ]
    },
    "id": "Z474sSC6oe7A",
    "outputId": "b9521533-92b5-46ba-a46f-01e13f59f432",
    "scrolled": true
   },
   "outputs": [
    {
     "name": "stderr",
     "output_type": "stream",
     "text": [
      "Special tokens have been added in the vocabulary, make sure the associated word embeddings are fine-tuned or trained.\n"
     ]
    },
    {
     "name": "stdout",
     "output_type": "stream",
     "text": [
      "['<1>', '<2>', '<3>', '<4>', '<5>', '<6>', '<7>', '<8>', '<9>', '<10>', '<11>', '<12>', '<adult>', '<kids>', 'horror', 'realistic_fiction', 'science_fiction', 'fantasy']\n"
     ]
    }
   ],
   "source": [
    "# Load the GPT tokenizer.\n",
    "tokenizer = GPT2Tokenizer.from_pretrained('gpt2', bos_token='<|startoftext|>', eos_token='<|endoftext|>', pad_token='<|pad|>') #gpt2-medium\n",
    "new_tokens = [\"<{}>\".format(g + 1) for g in range(12)]\n",
    "new_tokens.extend([\"<adult>\", \"<kids>\"])\n",
    "new_tokens.extend(list(set(genre_dict.values())))\n",
    "print(new_tokens)"
   ]
  },
  {
   "cell_type": "code",
   "execution_count": 45,
   "metadata": {},
   "outputs": [
    {
     "data": {
      "text/plain": [
       "50259"
      ]
     },
     "execution_count": 45,
     "metadata": {},
     "output_type": "execute_result"
    }
   ],
   "source": [
    "# number of tokens in tokenizer before adding the new tokens\n",
    "len(tokenizer)"
   ]
  },
  {
   "cell_type": "code",
   "execution_count": 46,
   "metadata": {},
   "outputs": [],
   "source": [
    "for t in new_tokens:\n",
    "    tokenizer.add_tokens(t)"
   ]
  },
  {
   "cell_type": "code",
   "execution_count": 47,
   "metadata": {},
   "outputs": [
    {
     "data": {
      "text/plain": [
       "50277"
      ]
     },
     "execution_count": 47,
     "metadata": {},
     "output_type": "execute_result"
    }
   ],
   "source": [
    "# number of tokens in tokenizer after adding the new tokens\n",
    "len(tokenizer)"
   ]
  },
  {
   "cell_type": "markdown",
   "metadata": {
    "id": "ex5O1eV-Pfct"
   },
   "source": [
    "# PyTorch Datasets & Dataloaders\n"
   ]
  },
  {
   "cell_type": "markdown",
   "metadata": {
    "id": "3lgZoOYkxZfx"
   },
   "source": [
    "GPT2 is a large model. Increasing the batch size above 2 has lead to out of memory problems. This can be mitigated by accumulating the gradients but that is out of scope here."
   ]
  },
  {
   "cell_type": "code",
   "execution_count": 59,
   "metadata": {
    "id": "scqrzmqhV__z"
   },
   "outputs": [],
   "source": [
    "batch_size = 4"
   ]
  },
  {
   "cell_type": "markdown",
   "metadata": {
    "id": "lqGMee7Isfpx"
   },
   "source": [
    "I'm using the standard PyTorch approach of loading data in using a [dataset class](https://pytorch.org/tutorials/beginner/data_loading_tutorial.html).\n",
    "\n",
    "I'm passing in the tokenizer as an argument but normally I would  instantiate it within the class."
   ]
  },
  {
   "cell_type": "code",
   "execution_count": 60,
   "metadata": {
    "id": "U_XJVIetKN-h"
   },
   "outputs": [],
   "source": [
    "class GPT2Dataset(Dataset):\n",
    "\n",
    "  def __init__(self, txt_list, tokenizer, gpt2_type=\"gpt2\", max_length=512):\n",
    "\n",
    "    self.tokenizer = tokenizer\n",
    "    self.input_ids = []\n",
    "    self.attn_masks = []\n",
    "\n",
    "    for txt in txt_list:\n",
    "\n",
    "      encodings_dict = tokenizer('<|startoftext|>'+ txt + '<|endoftext|>', truncation=True, max_length=max_length, padding=\"max_length\")\n",
    "\n",
    "      self.input_ids.append(torch.tensor(encodings_dict['input_ids']))\n",
    "      self.attn_masks.append(torch.tensor(encodings_dict['attention_mask']))\n",
    "    \n",
    "  def __len__(self):\n",
    "    return len(self.input_ids)\n",
    "\n",
    "  def __getitem__(self, idx):\n",
    "    return self.input_ids[idx], self.attn_masks[idx] "
   ]
  },
  {
   "cell_type": "code",
   "execution_count": 61,
   "metadata": {
    "colab": {
     "base_uri": "https://localhost:8080/"
    },
    "id": "Xza_O1_rD7yh",
    "outputId": "7186d46e-f9f3-4381-d219-5ef2df6a22fb"
   },
   "outputs": [
    {
     "name": "stdout",
     "output_type": "stream",
     "text": [
      "29,735 training samples\n",
      "3,304 validation samples\n"
     ]
    }
   ],
   "source": [
    "dataset = GPT2Dataset(df_story, tokenizer, max_length=512)\n",
    "\n",
    "train_split_ratio = 0.9\n",
    "\n",
    "train_size = int(train_split_ratio * len(dataset))\n",
    "val_size = len(dataset) - train_size\n",
    "\n",
    "train_dataset, val_dataset = random_split(dataset, [train_size, val_size])\n",
    "\n",
    "print('{:>5,} training samples'.format(train_size))\n",
    "print('{:>5,} validation samples'.format(val_size))"
   ]
  },
  {
   "cell_type": "code",
   "execution_count": 62,
   "metadata": {
    "id": "x0WeP5PREUuy"
   },
   "outputs": [],
   "source": [
    "train_dataloader = DataLoader(train_dataset,sampler = RandomSampler(train_dataset),batch_size = batch_size)\n",
    "\n",
    "validation_dataloader = DataLoader(val_dataset,sampler = SequentialSampler(val_dataset),batch_size = batch_size)"
   ]
  },
  {
   "cell_type": "markdown",
   "metadata": {
    "id": "D6TKgyUzPIQc"
   },
   "source": [
    "# Finetuning GPT2 Language Model (First step)"
   ]
  },
  {
   "cell_type": "code",
   "execution_count": 63,
   "metadata": {},
   "outputs": [],
   "source": [
    "configuration = GPT2Config.from_pretrained('gpt2', output_hidden_states=False)\n",
    "\n",
    "model = GPT2LMHeadModel.from_pretrained(\"gpt2\", config=configuration)"
   ]
  },
  {
   "cell_type": "code",
   "execution_count": 64,
   "metadata": {
    "colab": {
     "base_uri": "https://localhost:8080/",
     "height": 49,
     "referenced_widgets": [
      "85330ddad2874a1097a0fae127780b7f",
      "04fcb603cd69463680046b285ede8031",
      "1a5f59a492c54c7aab2ee2cad1c4c0d5",
      "085ce541d4b741dfbaf56656fc7f6c05",
      "3fc963f65ea948008fe7d4790ef2e24b",
      "64617b8380db42a28edc058348e564cf",
      "1ebad7c60b424097ad936ba7aec67872",
      "99f4ba6036084b7dafb0f3ea409688c0",
      "51254388b2924b0ab0e33ac5c8278137",
      "81adacd7162c40528f998ecad60e9b1e",
      "e9da2e852d6d413e8dcc87aa92dadc27"
     ]
    },
    "id": "gFsCTp_mporB",
    "outputId": "b78925ff-4bc6-428d-d2d9-7cfd4bcdcfd3"
   },
   "outputs": [],
   "source": [
    "model.resize_token_embeddings(len(tokenizer))\n",
    "device = torch.device(\"cuda\")\n",
    "model.to(device)\n",
    "\n",
    "seed_val = 20\n",
    "\n",
    "random.seed(seed_val)\n",
    "np.random.seed(seed_val)\n",
    "torch.manual_seed(seed_val)\n",
    "torch.cuda.manual_seed_all(seed_val)"
   ]
  },
  {
   "cell_type": "code",
   "execution_count": 69,
   "metadata": {
    "id": "pBEVY2PYSTXJ"
   },
   "outputs": [],
   "source": [
    "epochs = 8\n",
    "learning_rate = 5e-4\n",
    "warmup_steps = 1e2\n",
    "epsilon = 1e-8\n",
    "sample_every = 100"
   ]
  },
  {
   "cell_type": "code",
   "execution_count": 70,
   "metadata": {
    "colab": {
     "base_uri": "https://localhost:8080/"
    },
    "id": "GLs72DuMODJO",
    "outputId": "951badb1-d3b6-429a-ff56-de67cf9d3756"
   },
   "outputs": [],
   "source": [
    "optimizer = AdamW(model.parameters(), lr = learning_rate, eps = epsilon)"
   ]
  },
  {
   "cell_type": "code",
   "execution_count": 71,
   "metadata": {
    "id": "-p0upAhhRiIx"
   },
   "outputs": [],
   "source": [
    "total_steps = len(train_dataloader) * epochs\n",
    "\n",
    "scheduler = get_linear_schedule_with_warmup(optimizer, num_warmup_steps = warmup_steps, num_training_steps = total_steps)"
   ]
  },
  {
   "cell_type": "code",
   "execution_count": 72,
   "metadata": {
    "id": "gpt6tR83keZD"
   },
   "outputs": [],
   "source": [
    "def format_time(elapsed):\n",
    "    return str(datetime.timedelta(seconds=int(round((elapsed)))))"
   ]
  },
  {
   "cell_type": "code",
   "execution_count": 73,
   "metadata": {
    "colab": {
     "base_uri": "https://localhost:8080/"
    },
    "id": "vCPohrZ-CTWu",
    "outputId": "4ab7de35-1441-4d76-85fc-1565f4133468"
   },
   "outputs": [
    {
     "name": "stdout",
     "output_type": "stream",
     "text": [
      "\n",
      "======== Epoch 1 / 8 ========\n",
      "Training...\n",
      "\n",
      "  Average training loss: 2.38\n",
      "  Training epoch took: 0:20:03\n",
      "\n",
      "Running Validation...\n",
      "  Validation Loss: 2.24\n",
      "  Validation took: 0:00:40\n",
      "\n",
      "======== Epoch 2 / 8 ========\n",
      "Training...\n",
      "\n",
      "  Average training loss: 2.17\n",
      "  Training epoch took: 0:20:19\n",
      "\n",
      "Running Validation...\n",
      "  Validation Loss: 2.21\n",
      "  Validation took: 0:00:40\n",
      "\n",
      "======== Epoch 3 / 8 ========\n",
      "Training...\n",
      "\n",
      "  Average training loss: 2.01\n",
      "  Training epoch took: 0:20:03\n",
      "\n",
      "Running Validation...\n",
      "  Validation Loss: 2.18\n",
      "  Validation took: 0:00:40\n",
      "\n",
      "======== Epoch 4 / 8 ========\n",
      "Training...\n",
      "\n",
      "  Average training loss: 1.86\n",
      "  Training epoch took: 0:20:16\n",
      "\n",
      "Running Validation...\n",
      "  Validation Loss: 2.19\n",
      "  Validation took: 0:00:40\n",
      "\n",
      "======== Epoch 5 / 8 ========\n",
      "Training...\n",
      "\n",
      "  Average training loss: 1.71\n",
      "  Training epoch took: 0:21:05\n",
      "\n",
      "Running Validation...\n",
      "  Validation Loss: 2.21\n",
      "  Validation took: 0:00:52\n",
      "\n",
      "======== Epoch 6 / 8 ========\n",
      "Training...\n",
      "\n",
      "  Average training loss: 1.58\n",
      "  Training epoch took: 0:22:06\n",
      "\n",
      "Running Validation...\n",
      "  Validation Loss: 2.25\n",
      "  Validation took: 0:00:44\n",
      "\n",
      "======== Epoch 7 / 8 ========\n",
      "Training...\n",
      "\n",
      "  Average training loss: 1.45\n",
      "  Training epoch took: 0:22:29\n",
      "\n",
      "Running Validation...\n",
      "  Validation Loss: 2.33\n",
      "  Validation took: 0:00:45\n",
      "\n",
      "======== Epoch 8 / 8 ========\n",
      "Training...\n",
      "\n",
      "  Average training loss: 1.34\n",
      "  Training epoch took: 0:22:39\n",
      "\n",
      "Running Validation...\n",
      "  Validation Loss: 2.39\n",
      "  Validation took: 0:00:46\n",
      "\n",
      "Training complete!\n",
      "Total training took 2:54:51 (h:mm:ss)\n"
     ]
    }
   ],
   "source": [
    "# For this part we used and customized the code available in: https://github.com/sfs0126/Lyric-Generator-fine-tuned-GPT-2\n",
    "total_t0 = time.time()\n",
    "\n",
    "training_stats = []\n",
    "val_losses = []\n",
    "model = model.to(device)\n",
    "\n",
    "output_dir = './gpt2_all_story_model_save_huggingface/'\n",
    "\n",
    "if not os.path.exists(output_dir):\n",
    "    os.makedirs(output_dir)\n",
    "\n",
    "for epoch_i in range(0, epochs):\n",
    "\n",
    "    print(\"\")\n",
    "    print('======== Epoch {:} / {:} ========'.format(epoch_i + 1, epochs))\n",
    "    print('Training...')\n",
    "\n",
    "    t0 = time.time()\n",
    "\n",
    "    total_train_loss = 0\n",
    "\n",
    "    model.train()\n",
    "\n",
    "    for step, batch in enumerate(train_dataloader):\n",
    "\n",
    "        b_input_ids = batch[0].to(device)\n",
    "        b_labels = batch[0].to(device)\n",
    "        b_masks = batch[1].to(device)\n",
    "\n",
    "        model.zero_grad()        \n",
    "\n",
    "        outputs = model(  b_input_ids,\n",
    "                          labels=b_labels, \n",
    "                          attention_mask = b_masks,\n",
    "                          token_type_ids=None\n",
    "                        )\n",
    "\n",
    "        loss = outputs[0]  \n",
    "\n",
    "        batch_loss = loss.item()\n",
    "        total_train_loss += batch_loss\n",
    "        loss.backward()\n",
    "        optimizer.step()\n",
    "        scheduler.step()\n",
    "\n",
    "    avg_train_loss = total_train_loss / len(train_dataloader)       \n",
    "    \n",
    "    training_time = format_time(time.time() - t0)\n",
    "\n",
    "    print(\"\")\n",
    "    print(\"  Average training loss: {0:.2f}\".format(avg_train_loss))\n",
    "    print(\"  Training epoch took: {:}\".format(training_time))\n",
    "    print(\"\")\n",
    "    print(\"Running Validation...\")\n",
    "\n",
    "    t0 = time.time()\n",
    "\n",
    "    model.eval()\n",
    "\n",
    "    total_eval_loss = 0\n",
    "    nb_eval_steps = 0\n",
    "\n",
    "    # Evaluate data for one epoch\n",
    "    for batch in validation_dataloader:\n",
    "        \n",
    "        b_input_ids = batch[0].to(device)\n",
    "        b_labels = batch[0].to(device)\n",
    "        b_masks = batch[1].to(device)\n",
    "        \n",
    "        with torch.no_grad():        \n",
    "\n",
    "            outputs  = model(b_input_ids, \n",
    "#                            token_type_ids=None, \n",
    "                             attention_mask = b_masks,\n",
    "                            labels=b_labels)\n",
    "          \n",
    "            loss = outputs[0]  \n",
    "            \n",
    "        batch_loss = loss.item()\n",
    "        total_eval_loss += batch_loss        \n",
    "\n",
    "    avg_val_loss = total_eval_loss / len(validation_dataloader)\n",
    "    \n",
    "    validation_time = format_time(time.time() - t0)    \n",
    "    \n",
    "    print(\"  Validation Loss: {0:.2f}\".format(avg_val_loss))\n",
    "    print(\"  Validation took: {:}\".format(validation_time))\n",
    "    \n",
    "    val_losses.append(avg_val_loss)\n",
    "    # Save the model with best accuracy on the validation set\n",
    "    if (len(val_losses)>1 and avg_val_loss < np.min(val_losses[:-1])) or len(val_losses)==1:\n",
    "        model_to_save = model.module if hasattr(model, 'module') else model  # Take care of distributed/parallel training\n",
    "        model_to_save.save_pretrained(output_dir)\n",
    "        tokenizer.save_pretrained(output_dir)\n",
    "\n",
    "    # Record all statistics from this epoch.\n",
    "    training_stats.append(\n",
    "        {\n",
    "            'epoch': epoch_i + 1,\n",
    "            'Training Loss': avg_train_loss,\n",
    "            'Valid. Loss': avg_val_loss,\n",
    "            'Training Time': training_time,\n",
    "            'Validation Time': validation_time\n",
    "        }\n",
    "    )\n",
    "\n",
    "print(\"\")\n",
    "print(\"Training complete!\")\n",
    "print(\"Total training took {:} (h:mm:ss)\".format(format_time(time.time()-total_t0)))"
   ]
  },
  {
   "cell_type": "markdown",
   "metadata": {
    "id": "VQTvJ1vRP7u4"
   },
   "source": [
    "The summary of the training process:"
   ]
  },
  {
   "cell_type": "code",
   "execution_count": 74,
   "metadata": {
    "colab": {
     "base_uri": "https://localhost:8080/",
     "height": 238
    },
    "id": "6O_NbXFGMukX",
    "outputId": "2331b35a-c41d-434a-bcfe-1af267e13e41",
    "scrolled": true
   },
   "outputs": [
    {
     "data": {
      "text/html": [
       "<div>\n",
       "<style scoped>\n",
       "    .dataframe tbody tr th:only-of-type {\n",
       "        vertical-align: middle;\n",
       "    }\n",
       "\n",
       "    .dataframe tbody tr th {\n",
       "        vertical-align: top;\n",
       "    }\n",
       "\n",
       "    .dataframe thead th {\n",
       "        text-align: right;\n",
       "    }\n",
       "</style>\n",
       "<table border=\"1\" class=\"dataframe\">\n",
       "  <thead>\n",
       "    <tr style=\"text-align: right;\">\n",
       "      <th></th>\n",
       "      <th>Training Loss</th>\n",
       "      <th>Valid. Loss</th>\n",
       "      <th>Training Time</th>\n",
       "      <th>Validation Time</th>\n",
       "    </tr>\n",
       "    <tr>\n",
       "      <th>epoch</th>\n",
       "      <th></th>\n",
       "      <th></th>\n",
       "      <th></th>\n",
       "      <th></th>\n",
       "    </tr>\n",
       "  </thead>\n",
       "  <tbody>\n",
       "    <tr>\n",
       "      <th>1</th>\n",
       "      <td>2.376741</td>\n",
       "      <td>2.239332</td>\n",
       "      <td>0:20:03</td>\n",
       "      <td>0:00:40</td>\n",
       "    </tr>\n",
       "    <tr>\n",
       "      <th>2</th>\n",
       "      <td>2.171103</td>\n",
       "      <td>2.206378</td>\n",
       "      <td>0:20:19</td>\n",
       "      <td>0:00:40</td>\n",
       "    </tr>\n",
       "    <tr>\n",
       "      <th>3</th>\n",
       "      <td>2.012033</td>\n",
       "      <td>2.183592</td>\n",
       "      <td>0:20:03</td>\n",
       "      <td>0:00:40</td>\n",
       "    </tr>\n",
       "    <tr>\n",
       "      <th>4</th>\n",
       "      <td>1.859011</td>\n",
       "      <td>2.188050</td>\n",
       "      <td>0:20:16</td>\n",
       "      <td>0:00:40</td>\n",
       "    </tr>\n",
       "    <tr>\n",
       "      <th>5</th>\n",
       "      <td>1.713134</td>\n",
       "      <td>2.206928</td>\n",
       "      <td>0:21:05</td>\n",
       "      <td>0:00:52</td>\n",
       "    </tr>\n",
       "    <tr>\n",
       "      <th>6</th>\n",
       "      <td>1.575145</td>\n",
       "      <td>2.251367</td>\n",
       "      <td>0:22:06</td>\n",
       "      <td>0:00:44</td>\n",
       "    </tr>\n",
       "    <tr>\n",
       "      <th>7</th>\n",
       "      <td>1.448774</td>\n",
       "      <td>2.325907</td>\n",
       "      <td>0:22:29</td>\n",
       "      <td>0:00:45</td>\n",
       "    </tr>\n",
       "    <tr>\n",
       "      <th>8</th>\n",
       "      <td>1.342893</td>\n",
       "      <td>2.390391</td>\n",
       "      <td>0:22:39</td>\n",
       "      <td>0:00:46</td>\n",
       "    </tr>\n",
       "  </tbody>\n",
       "</table>\n",
       "</div>"
      ],
      "text/plain": [
       "       Training Loss  Valid. Loss Training Time Validation Time\n",
       "epoch                                                          \n",
       "1           2.376741     2.239332       0:20:03         0:00:40\n",
       "2           2.171103     2.206378       0:20:19         0:00:40\n",
       "3           2.012033     2.183592       0:20:03         0:00:40\n",
       "4           1.859011     2.188050       0:20:16         0:00:40\n",
       "5           1.713134     2.206928       0:21:05         0:00:52\n",
       "6           1.575145     2.251367       0:22:06         0:00:44\n",
       "7           1.448774     2.325907       0:22:29         0:00:45\n",
       "8           1.342893     2.390391       0:22:39         0:00:46"
      ]
     },
     "execution_count": 74,
     "metadata": {},
     "output_type": "execute_result"
    }
   ],
   "source": [
    "df_stats = pd.DataFrame(data=training_stats)\n",
    "df_stats = df_stats.set_index('epoch')\n",
    "df_stats"
   ]
  },
  {
   "cell_type": "code",
   "execution_count": 75,
   "metadata": {
    "colab": {
     "base_uri": "https://localhost:8080/",
     "height": 427
    },
    "id": "68xreA9JAmG5",
    "outputId": "3b31fcf0-7eb1-4f2d-e6c0-ed055447297e"
   },
   "outputs": [
    {
     "data": {
      "image/png": "[encoded data removed]",
      "text/plain": [
       "<Figure size 1200x600 with 1 Axes>"
      ]
     },
     "metadata": {},
     "output_type": "display_data"
    }
   ],
   "source": [
    "# Use plot styling from seaborn.\n",
    "sns.set(style='darkgrid')\n",
    "\n",
    "# Increase the plot size and font size.\n",
    "sns.set(font_scale=1.5)\n",
    "plt.rcParams[\"figure.figsize\"] = (12,6)\n",
    "\n",
    "# Plot the learning curve.\n",
    "plt.plot(df_stats['Training Loss'], 'b-o', label=\"Training\")\n",
    "plt.plot(df_stats['Valid. Loss'], 'g-o', label=\"Validation\")\n",
    "\n",
    "# Label the plot.\n",
    "plt.title(\"Training & Validation Loss\")\n",
    "plt.xlabel(\"Epoch\")\n",
    "plt.ylabel(\"Loss\")\n",
    "plt.legend()\n",
    "plt.xticks([i+1 for i in range(1+len(df_stats['Training Loss']))])\n",
    "\n",
    "plt.show()"
   ]
  },
  {
   "cell_type": "markdown",
   "metadata": {
    "id": "GfjYoa6WmkN6"
   },
   "source": [
    "# Display Model Info"
   ]
  },
  {
   "cell_type": "code",
   "execution_count": 77,
   "metadata": {},
   "outputs": [],
   "source": [
    "def count_parameters(model):\n",
    "    return sum(p.numel() for p in model.parameters() if p.requires_grad)"
   ]
  },
  {
   "cell_type": "code",
   "execution_count": 79,
   "metadata": {},
   "outputs": [
    {
     "name": "stdout",
     "output_type": "stream",
     "text": [
      "# Model parameters:  124455168\n"
     ]
    }
   ],
   "source": [
    "print(\"# Model parameters: \", count_parameters(model))"
   ]
  },
  {
   "cell_type": "markdown",
   "metadata": {
    "id": "q2079Qyn8Mt8"
   },
   "source": [
    "# Saving & Loading Fine-Tuned Model\n"
   ]
  },
  {
   "cell_type": "code",
   "execution_count": 49,
   "metadata": {
    "colab": {
     "base_uri": "https://localhost:8080/"
    },
    "id": "6ulTWaOr8QNY",
    "outputId": "5b7ab2db-7336-46f1-c84a-90a9bdf05f5b"
   },
   "outputs": [
    {
     "name": "stdout",
     "output_type": "stream",
     "text": [
      "Saving model to ./gpt2_all_story_model_save_huggingface/\n"
     ]
    },
    {
     "data": {
      "text/plain": [
       "('./gpt2_all_story_model_save_huggingface/tokenizer_config.json',\n",
       " './gpt2_all_story_model_save_huggingface/special_tokens_map.json',\n",
       " './gpt2_all_story_model_save_huggingface/vocab.json',\n",
       " './gpt2_all_story_model_save_huggingface/merges.txt',\n",
       " './gpt2_all_story_model_save_huggingface/added_tokens.json')"
      ]
     },
     "execution_count": 49,
     "metadata": {},
     "output_type": "execute_result"
    }
   ],
   "source": [
    "# output_dir = './gpt2_all_story_model_save_huggingface/'\n",
    "\n",
    "# if not os.path.exists(output_dir):\n",
    "#     os.makedirs(output_dir)\n",
    "\n",
    "# model_to_save = model.module if hasattr(model, 'module') else model  # Take care of distributed/parallel training\n",
    "# model_to_save.save_pretrained(output_dir)\n",
    "# tokenizer.save_pretrained(output_dir)\n",
    "\n"
   ]
  },
  {
   "cell_type": "code",
   "execution_count": 80,
   "metadata": {},
   "outputs": [
    {
     "data": {
      "text/plain": [
       "GPT2LMHeadModel(\n",
       "  (transformer): GPT2Model(\n",
       "    (wte): Embedding(50277, 768)\n",
       "    (wpe): Embedding(1024, 768)\n",
       "    (drop): Dropout(p=0.1, inplace=False)\n",
       "    (h): ModuleList(\n",
       "      (0): GPT2Block(\n",
       "        (ln_1): LayerNorm((768,), eps=1e-05, elementwise_affine=True)\n",
       "        (attn): GPT2Attention(\n",
       "          (c_attn): Conv1D()\n",
       "          (c_proj): Conv1D()\n",
       "          (attn_dropout): Dropout(p=0.1, inplace=False)\n",
       "          (resid_dropout): Dropout(p=0.1, inplace=False)\n",
       "        )\n",
       "        (ln_2): LayerNorm((768,), eps=1e-05, elementwise_affine=True)\n",
       "        (mlp): GPT2MLP(\n",
       "          (c_fc): Conv1D()\n",
       "          (c_proj): Conv1D()\n",
       "          (act): NewGELUActivation()\n",
       "          (dropout): Dropout(p=0.1, inplace=False)\n",
       "        )\n",
       "      )\n",
       "      (1): GPT2Block(\n",
       "        (ln_1): LayerNorm((768,), eps=1e-05, elementwise_affine=True)\n",
       "        (attn): GPT2Attention(\n",
       "          (c_attn): Conv1D()\n",
       "          (c_proj): Conv1D()\n",
       "          (attn_dropout): Dropout(p=0.1, inplace=False)\n",
       "          (resid_dropout): Dropout(p=0.1, inplace=False)\n",
       "        )\n",
       "        (ln_2): LayerNorm((768,), eps=1e-05, elementwise_affine=True)\n",
       "        (mlp): GPT2MLP(\n",
       "          (c_fc): Conv1D()\n",
       "          (c_proj): Conv1D()\n",
       "          (act): NewGELUActivation()\n",
       "          (dropout): Dropout(p=0.1, inplace=False)\n",
       "        )\n",
       "      )\n",
       "      (2): GPT2Block(\n",
       "        (ln_1): LayerNorm((768,), eps=1e-05, elementwise_affine=True)\n",
       "        (attn): GPT2Attention(\n",
       "          (c_attn): Conv1D()\n",
       "          (c_proj): Conv1D()\n",
       "          (attn_dropout): Dropout(p=0.1, inplace=False)\n",
       "          (resid_dropout): Dropout(p=0.1, inplace=False)\n",
       "        )\n",
       "        (ln_2): LayerNorm((768,), eps=1e-05, elementwise_affine=True)\n",
       "        (mlp): GPT2MLP(\n",
       "          (c_fc): Conv1D()\n",
       "          (c_proj): Conv1D()\n",
       "          (act): NewGELUActivation()\n",
       "          (dropout): Dropout(p=0.1, inplace=False)\n",
       "        )\n",
       "      )\n",
       "      (3): GPT2Block(\n",
       "        (ln_1): LayerNorm((768,), eps=1e-05, elementwise_affine=True)\n",
       "        (attn): GPT2Attention(\n",
       "          (c_attn): Conv1D()\n",
       "          (c_proj): Conv1D()\n",
       "          (attn_dropout): Dropout(p=0.1, inplace=False)\n",
       "          (resid_dropout): Dropout(p=0.1, inplace=False)\n",
       "        )\n",
       "        (ln_2): LayerNorm((768,), eps=1e-05, elementwise_affine=True)\n",
       "        (mlp): GPT2MLP(\n",
       "          (c_fc): Conv1D()\n",
       "          (c_proj): Conv1D()\n",
       "          (act): NewGELUActivation()\n",
       "          (dropout): Dropout(p=0.1, inplace=False)\n",
       "        )\n",
       "      )\n",
       "      (4): GPT2Block(\n",
       "        (ln_1): LayerNorm((768,), eps=1e-05, elementwise_affine=True)\n",
       "        (attn): GPT2Attention(\n",
       "          (c_attn): Conv1D()\n",
       "          (c_proj): Conv1D()\n",
       "          (attn_dropout): Dropout(p=0.1, inplace=False)\n",
       "          (resid_dropout): Dropout(p=0.1, inplace=False)\n",
       "        )\n",
       "        (ln_2): LayerNorm((768,), eps=1e-05, elementwise_affine=True)\n",
       "        (mlp): GPT2MLP(\n",
       "          (c_fc): Conv1D()\n",
       "          (c_proj): Conv1D()\n",
       "          (act): NewGELUActivation()\n",
       "          (dropout): Dropout(p=0.1, inplace=False)\n",
       "        )\n",
       "      )\n",
       "      (5): GPT2Block(\n",
       "        (ln_1): LayerNorm((768,), eps=1e-05, elementwise_affine=True)\n",
       "        (attn): GPT2Attention(\n",
       "          (c_attn): Conv1D()\n",
       "          (c_proj): Conv1D()\n",
       "          (attn_dropout): Dropout(p=0.1, inplace=False)\n",
       "          (resid_dropout): Dropout(p=0.1, inplace=False)\n",
       "        )\n",
       "        (ln_2): LayerNorm((768,), eps=1e-05, elementwise_affine=True)\n",
       "        (mlp): GPT2MLP(\n",
       "          (c_fc): Conv1D()\n",
       "          (c_proj): Conv1D()\n",
       "          (act): NewGELUActivation()\n",
       "          (dropout): Dropout(p=0.1, inplace=False)\n",
       "        )\n",
       "      )\n",
       "      (6): GPT2Block(\n",
       "        (ln_1): LayerNorm((768,), eps=1e-05, elementwise_affine=True)\n",
       "        (attn): GPT2Attention(\n",
       "          (c_attn): Conv1D()\n",
       "          (c_proj): Conv1D()\n",
       "          (attn_dropout): Dropout(p=0.1, inplace=False)\n",
       "          (resid_dropout): Dropout(p=0.1, inplace=False)\n",
       "        )\n",
       "        (ln_2): LayerNorm((768,), eps=1e-05, elementwise_affine=True)\n",
       "        (mlp): GPT2MLP(\n",
       "          (c_fc): Conv1D()\n",
       "          (c_proj): Conv1D()\n",
       "          (act): NewGELUActivation()\n",
       "          (dropout): Dropout(p=0.1, inplace=False)\n",
       "        )\n",
       "      )\n",
       "      (7): GPT2Block(\n",
       "        (ln_1): LayerNorm((768,), eps=1e-05, elementwise_affine=True)\n",
       "        (attn): GPT2Attention(\n",
       "          (c_attn): Conv1D()\n",
       "          (c_proj): Conv1D()\n",
       "          (attn_dropout): Dropout(p=0.1, inplace=False)\n",
       "          (resid_dropout): Dropout(p=0.1, inplace=False)\n",
       "        )\n",
       "        (ln_2): LayerNorm((768,), eps=1e-05, elementwise_affine=True)\n",
       "        (mlp): GPT2MLP(\n",
       "          (c_fc): Conv1D()\n",
       "          (c_proj): Conv1D()\n",
       "          (act): NewGELUActivation()\n",
       "          (dropout): Dropout(p=0.1, inplace=False)\n",
       "        )\n",
       "      )\n",
       "      (8): GPT2Block(\n",
       "        (ln_1): LayerNorm((768,), eps=1e-05, elementwise_affine=True)\n",
       "        (attn): GPT2Attention(\n",
       "          (c_attn): Conv1D()\n",
       "          (c_proj): Conv1D()\n",
       "          (attn_dropout): Dropout(p=0.1, inplace=False)\n",
       "          (resid_dropout): Dropout(p=0.1, inplace=False)\n",
       "        )\n",
       "        (ln_2): LayerNorm((768,), eps=1e-05, elementwise_affine=True)\n",
       "        (mlp): GPT2MLP(\n",
       "          (c_fc): Conv1D()\n",
       "          (c_proj): Conv1D()\n",
       "          (act): NewGELUActivation()\n",
       "          (dropout): Dropout(p=0.1, inplace=False)\n",
       "        )\n",
       "      )\n",
       "      (9): GPT2Block(\n",
       "        (ln_1): LayerNorm((768,), eps=1e-05, elementwise_affine=True)\n",
       "        (attn): GPT2Attention(\n",
       "          (c_attn): Conv1D()\n",
       "          (c_proj): Conv1D()\n",
       "          (attn_dropout): Dropout(p=0.1, inplace=False)\n",
       "          (resid_dropout): Dropout(p=0.1, inplace=False)\n",
       "        )\n",
       "        (ln_2): LayerNorm((768,), eps=1e-05, elementwise_affine=True)\n",
       "        (mlp): GPT2MLP(\n",
       "          (c_fc): Conv1D()\n",
       "          (c_proj): Conv1D()\n",
       "          (act): NewGELUActivation()\n",
       "          (dropout): Dropout(p=0.1, inplace=False)\n",
       "        )\n",
       "      )\n",
       "      (10): GPT2Block(\n",
       "        (ln_1): LayerNorm((768,), eps=1e-05, elementwise_affine=True)\n",
       "        (attn): GPT2Attention(\n",
       "          (c_attn): Conv1D()\n",
       "          (c_proj): Conv1D()\n",
       "          (attn_dropout): Dropout(p=0.1, inplace=False)\n",
       "          (resid_dropout): Dropout(p=0.1, inplace=False)\n",
       "        )\n",
       "        (ln_2): LayerNorm((768,), eps=1e-05, elementwise_affine=True)\n",
       "        (mlp): GPT2MLP(\n",
       "          (c_fc): Conv1D()\n",
       "          (c_proj): Conv1D()\n",
       "          (act): NewGELUActivation()\n",
       "          (dropout): Dropout(p=0.1, inplace=False)\n",
       "        )\n",
       "      )\n",
       "      (11): GPT2Block(\n",
       "        (ln_1): LayerNorm((768,), eps=1e-05, elementwise_affine=True)\n",
       "        (attn): GPT2Attention(\n",
       "          (c_attn): Conv1D()\n",
       "          (c_proj): Conv1D()\n",
       "          (attn_dropout): Dropout(p=0.1, inplace=False)\n",
       "          (resid_dropout): Dropout(p=0.1, inplace=False)\n",
       "        )\n",
       "        (ln_2): LayerNorm((768,), eps=1e-05, elementwise_affine=True)\n",
       "        (mlp): GPT2MLP(\n",
       "          (c_fc): Conv1D()\n",
       "          (c_proj): Conv1D()\n",
       "          (act): NewGELUActivation()\n",
       "          (dropout): Dropout(p=0.1, inplace=False)\n",
       "        )\n",
       "      )\n",
       "    )\n",
       "    (ln_f): LayerNorm((768,), eps=1e-05, elementwise_affine=True)\n",
       "  )\n",
       "  (lm_head): Linear(in_features=768, out_features=50277, bias=False)\n",
       ")"
      ]
     },
     "execution_count": 80,
     "metadata": {},
     "output_type": "execute_result"
    }
   ],
   "source": [
    "# Loading the model with best performance on validation set\n",
    "configuration = GPT2Config.from_pretrained('./gpt2_all_story_model_save_huggingface/', output_hidden_states=False)\n",
    "model = GPT2LMHeadModel.from_pretrained('./gpt2_all_story_model_save_huggingface/', config=configuration)\n",
    "model.resize_token_embeddings(len(tokenizer))\n",
    "device = torch.device(\"cuda\")\n",
    "model.to(device)"
   ]
  },
  {
   "cell_type": "markdown",
   "metadata": {
    "id": "ZLf6rbRglYhQ"
   },
   "source": [
    "# Generate Text"
   ]
  },
  {
   "cell_type": "code",
   "execution_count": 85,
   "metadata": {
    "colab": {
     "base_uri": "https://localhost:8080/"
    },
    "id": "v4XhewaV93-_",
    "outputId": "17aad2ab-3466-4631-d04c-ea9af67821b7"
   },
   "outputs": [
    {
     "name": "stderr",
     "output_type": "stream",
     "text": [
      "The attention mask and the pad token id were not set. As a consequence, you may observe unexpected behavior. Please pass your input's `attention_mask` to obtain reliable results.\n",
      "Setting `pad_token_id` to `eos_token_id`:50256 for open-end generation.\n"
     ]
    },
    {
     "name": "stdout",
     "output_type": "stream",
     "text": [
      "0: <6> < science_fiction > John, a scientist and his partner, travel on a ship that is about to be destroyed. They arrive at a small island near the ocean floor. There, they meet up with the giant octopus, who gives them directions to a nearby island. After a brief fight, John saves the octopus, and his girlfriend, Sarah, becomes fascinated by the island.  John and Sarah fall for each other, and one day John's boss, Dr. David, falls for Sarah. John and Sarah's feelings for each other are immediately mutual, and John discovers their bond with each other. The discovery of the island results in John and Sarah having to stay on the island until they realize that the island is filled with lifeforms. After they leave, John and Sarah find the island's only occupants: a giant octopus, a giant octopus, a giant octopus, and an ugly, silent, silent, silent makoose that is now on the island. Dr\n",
      "\n",
      "\n"
     ]
    }
   ],
   "source": [
    "model.eval()\n",
    "\n",
    "prompt = \"<|startoftext|> <6> <science_fiction>\"\n",
    "\n",
    "generated = torch.tensor(tokenizer.encode(prompt)).unsqueeze(0)\n",
    "generated = generated.to(device)\n",
    "\n",
    "sample_outputs = model.generate(generated, do_sample=True, top_k=50, max_length = 200,top_p=0.95, num_return_sequences=1)\n",
    "\n",
    "for i, sample_output in enumerate(sample_outputs):\n",
    "  print(\"{}: {}\\n\\n\".format(i, tokenizer.decode(sample_output, skip_special_tokens=True)))"
   ]
  },
  {
   "cell_type": "code",
   "execution_count": 87,
   "metadata": {},
   "outputs": [
    {
     "name": "stderr",
     "output_type": "stream",
     "text": [
      "The attention mask and the pad token id were not set. As a consequence, you may observe unexpected behavior. Please pass your input's `attention_mask` to obtain reliable results.\n",
      "Setting `pad_token_id` to `eos_token_id`:50256 for open-end generation.\n"
     ]
    },
    {
     "name": "stdout",
     "output_type": "stream",
     "text": [
      "0: <4> < horror > The waiter at the general store wasnt buying a meal. He sold the restaurant. The waiter walked in. He walked out of the restaurant. He got into the store and into the main store. He walked in. The waiter rang the bell at 8:05 in two hours. The waiter asked the waiter to put the bell back on. The waiter walked up to the woman who was watching the waiter. She opened the waiter's shirt and put it on. She called the woman. The waiter handed her $20 bill to the waiter. She thanked the waiter for his service. He went to the waiter's table. He went to the main store again. He got in touch with an employee who was smoking outside. He found a picture of the waiter and his wife with a cigarette lighter. He went downstairs to find them. The waiter came to the table. A fight ensues. The waiter tried to fight back. He couldnt do it. He got into\n",
      "\n",
      "\n"
     ]
    }
   ],
   "source": [
    "model.eval()\n",
    "\n",
    "prompt = \"<|startoftext|> <4> <horror>\"\n",
    "\n",
    "generated = torch.tensor(tokenizer.encode(prompt)).unsqueeze(0)\n",
    "generated = generated.to(device)\n",
    "\n",
    "sample_outputs = model.generate(generated, do_sample=True, top_k=50, max_length = 200,top_p=0.95, num_return_sequences=1)\n",
    "\n",
    "for i, sample_output in enumerate(sample_outputs):\n",
    "  print(\"{}: {}\\n\\n\".format(i, tokenizer.decode(sample_output, skip_special_tokens=True)))"
   ]
  },
  {
   "cell_type": "code",
   "execution_count": 88,
   "metadata": {},
   "outputs": [],
   "source": [
    "def filter_logits(logits, tokenizer, words):\n",
    "    for word in words:\n",
    "        idx = tokenizer.encode(\" \" + word.strip())[0]\n",
    "        logits[idx] = -float('Inf')"
   ]
  },
  {
   "cell_type": "code",
   "execution_count": 89,
   "metadata": {},
   "outputs": [],
   "source": [
    "def add_bias_logits(logits, tokenizer, bias_dict):\n",
    "    for idx in bias_dict.keys():        \n",
    "        logits[int(idx)] = logits[int(idx)] + bias_dict[idx]"
   ]
  },
  {
   "cell_type": "code",
   "execution_count": 90,
   "metadata": {},
   "outputs": [],
   "source": [
    "from numpy.random import choice\n",
    "import torch.nn.functional as F\n",
    "def filtered_generate(model, tokenizer, idx, device, max_new_tokens=10, temperature=1.0, do_sample=False,\\\n",
    "                      top_k=None, filter_words = [], bias_words = {}, prevent_repition=False, prevent_repition_bias=1):\n",
    "    \"\"\"\n",
    "    Take a conditioning sequence of indices idx (LongTensor of shape (b,t)) and complete\n",
    "    the sequence max_new_tokens times, feeding the predictions back into the model each time.\n",
    "    Most likely you'll want to make sure to be in model.eval() mode of operation for this.\n",
    "    \"\"\"\n",
    "    idx_all = []\n",
    "    top_k_probs = []\n",
    "    top_k_probs_all = []\n",
    "\n",
    "    for _ in range(max_new_tokens):\n",
    "        # if the sequence context is growing too long we must crop it at block_size\n",
    "#         idx_cond = idx if idx.size(1) <= self.block_size else idx[:, -self.block_size:]\n",
    "        idx_cond = idx \n",
    "        idx_cond.to(device)\n",
    "        # forward the model to get the logits for the index in the sequence\n",
    "        output = model(idx_cond)\n",
    "        logits = output[0][0][-1]\n",
    "        # pluck the logits at the final step and scale by desired temperature\n",
    "        logits = logits / temperature\n",
    "        # optionally crop the logits to only the top k options\n",
    "        if top_k is not None:\n",
    "            v, _ = torch.topk(logits, top_k)\n",
    "            logits[logits < v[-1]] = -float('Inf')\n",
    "        # apply softmax to convert logits to (normalized) probabilities\n",
    "        if len(filter_words) > 0:\n",
    "            filter_logits(logits,tokenizer, filter_words)\n",
    "        if len(bias_words) > 0:\n",
    "            add_bias_logits(logits,tokenizer, bias_words)\n",
    "        probs = F.softmax(logits, dim=-1)\n",
    "        # either sample from the distribution or take the most likely element\n",
    "        if do_sample:\n",
    "            idx_next = torch.multinomial(probs, num_samples=1)\n",
    "        else:\n",
    "            top_probs, idx_next = torch.topk(probs, k=top_k, dim=-1)\n",
    "            if prevent_repition:\n",
    "                for i, p in enumerate(top_probs):\n",
    "                    p = p.detach().cpu().numpy()\n",
    "                    q = torch.sum(1*(idx[0]==idx_next[i])).detach().cpu().numpy()\n",
    "                    top_probs[i] = prevent_repition_bias * p / (prevent_repition_bias + q)\n",
    "                top_probs = F.softmax(top_probs, dim=-1)\n",
    "            idx_next = choice(idx_next.detach().cpu().numpy(), 1, p=top_probs.detach().cpu().numpy())\n",
    "            idx_next = torch.from_numpy(idx_next).to(device)\n",
    "        # append sampled index to the running sequence and continue\n",
    "        # for i, idx_next in enumerate(idx_nexts):\n",
    "        idx = torch.cat((idx, idx_next.reshape(1,1)), dim=1)            \n",
    "#         top_k_probs.append(top_probs.detach().cpu().numpy()[0])\n",
    "    return idx"
   ]
  },
  {
   "cell_type": "code",
   "execution_count": 91,
   "metadata": {},
   "outputs": [],
   "source": [
    "prompt = \"<|startoftext|> <8> <fantasy> One day \"\n",
    "generated = torch.tensor(tokenizer.encode(prompt)).unsqueeze(0)\n",
    "generated = generated.to(device)\n"
   ]
  },
  {
   "cell_type": "code",
   "execution_count": 92,
   "metadata": {},
   "outputs": [
    {
     "name": "stdout",
     "output_type": "stream",
     "text": [
      " One day  Batman investigates the death of his father's girlfriend, who was shot dead. Batman finds that the killer, named Mr. Joker, had previously been on Batman's payroll. Batman deduces that Joker was trying to steal the Joker's money. Batman and Robin investigate, and discover that Joker was trying to frame Batman for the murders. Batman and Robin investigate, while the Joker's henchmen attempt to kill Batman. Batman and Robin eventually find the Joker's lair, and they learn about Joker's past, and the Joker's involvement in the murders.  Batman and Robin visit the Joker's mansion, who reveal that Joker had a briefcase full of cash. They find Joker's diary, which Joker had been reading to his girlfriend, who had recently left him. The Joker, who was trying to kill Batman, stole the diary and escaped with the money. After the Joker's henchmen were killed, Batman was able to save Batman from Joker, but the Joker's henchmen were also killed. Batman and Robin then find Joker's diary, and the Joker's diary explains that Joker was trying to take the Joker's money and had stolen his money, so the Joker would have to be killed. Batman, Robin, and Robin then find a note from Joker's diary and realize Joker has stolen the money. After returning to the mansion, Batman finds Joker's diary, which Joker had left behind. Batman and Robin then find a note from Joker's diary, which Joker had given Joker to\n"
     ]
    }
   ],
   "source": [
    "# An example of filtering words\n",
    "generated_tokens = filtered_generate(model,tokenizer, generated, device, max_new_tokens=300, temperature=0.8, do_sample=False, top_k=5, filter_words=[\"is\", \"are\", \"He\", \"he\", \"She\", \"she\"])\n",
    "generated_story = tokenizer.decode(generated_tokens[0]).split(\">\")[3]\n",
    "print(generated_story)"
   ]
  },
  {
   "cell_type": "code",
   "execution_count": 95,
   "metadata": {},
   "outputs": [
    {
     "name": "stderr",
     "output_type": "stream",
     "text": [
      "100%|██████████████████████████████████████████████████████████████████████████████████| 10/10 [12:31<00:00, 75.11s/it]\n"
     ]
    }
   ],
   "source": [
    "# measuring the grade level of the generated stories\n",
    "estimated_grades = []\n",
    "real_grades = []\n",
    "for i in tqdm(range(10)):\n",
    "    for g in range(12):\n",
    "        prompt = \"<|startoftext|> <{}> <horror> One day, \".format(g+1)\n",
    "        generated = torch.tensor(tokenizer.encode(prompt)).unsqueeze(0)\n",
    "        generated = generated.to(device)\n",
    "        generated_tokens = filtered_generate(model,tokenizer, generated, device, max_new_tokens=300, temperature=0.5, do_sample=False, top_k=5, filter_words=[])\n",
    "        generated_story = tokenizer.decode(generated_tokens[0]).split(\">\")[3]\n",
    "        estimated_grade = int(calculate_grade(generated_story))\n",
    "        estimated_grades.append(estimated_grade)\n",
    "        real_grades.append(g+1)               "
   ]
  },
  {
   "cell_type": "code",
   "execution_count": 96,
   "metadata": {},
   "outputs": [
    {
     "data": {
      "image/png": "[encoded data removed]",
      "text/plain": [
       "<Figure size 640x480 with 1 Axes>"
      ]
     },
     "metadata": {},
     "output_type": "display_data"
    }
   ],
   "source": [
    "import matplotlib\n",
    "import matplotlib.pyplot as plt\n",
    "matplotlib.rc_file_defaults()\n",
    "\n",
    "\n",
    "plt.figure()\n",
    "plt.scatter(real_grades, estimated_grades)\n",
    "plt.ylabel(\"The grade of the generated story\")\n",
    "plt.xlabel(\"The given grade in the prompt\")\n",
    "corr = np.round(np.corrcoef(real_grades, estimated_grades)[1][0],3)\n",
    "a, b = np.polyfit(real_grades, estimated_grades, 1)\n",
    "x = np.array(real_grades + [min(real_grades)-1, max(real_grades)+1])\n",
    "#add line of best fit to plot\n",
    "plt.plot(x, a*x+b, 'r')\n",
    "plt.title(\"Correlation Coef. = {}\".format(corr))\n",
    "plt.grid()\n",
    "plt.show()\n"
   ]
  },
  {
   "cell_type": "code",
   "execution_count": 98,
   "metadata": {},
   "outputs": [],
   "source": [
    "from numpy import random\n",
    "import json"
   ]
  },
  {
   "cell_type": "code",
   "execution_count": 137,
   "metadata": {},
   "outputs": [],
   "source": [
    "def load_vocab(filepath):\n",
    "    fileObject = open(filepath, \"r\")\n",
    "    jsonContent = fileObject.read()\n",
    "\n",
    "    return json.loads(jsonContent)\n",
    "\n",
    "\n",
    "def get_genre_vocab(genre):\n",
    "    filepath = 'data/genre_words/processed/'\n",
    "    if genre == 'science_fiction':\n",
    "        filepath = filepath + 'sci-fi.json'\n",
    "    elif genre == \"horror\":\n",
    "        filepath = filepath + 'horror.json'\n",
    "    elif genre == \"fantasy\":\n",
    "        filepath = filepath + \"fantasy.json\"\n",
    "    elif genre == \"realistic_fiction\":\n",
    "        filepath = filepath + \"realfic.json\"\n",
    "\n",
    "    return load_vocab(filepath)\n",
    "\n",
    "\n",
    "def get_value_vocab(value):\n",
    "    filepath = 'data/genre_words/processed/'\n",
    "    if value == \"love\":\n",
    "        filepath = filepath + 'love.json'\n",
    "    elif value == \"friendship\":\n",
    "        filepath = filepath + 'friendship.json'\n",
    "    elif value == \"determination\":\n",
    "        filepath = filepath + 'determination.json'\n",
    "    elif value == \"honesty\":\n",
    "        filepath = filepath + 'honesty.json'\n",
    "\n",
    "    return load_vocab(filepath)\n",
    "\n",
    "\n",
    "def rand_selection(vocab):\n",
    "    newvocab = {}\n",
    "    keys = list(vocab.keys())\n",
    "    randlist = np.random.choice(len(keys), 300, replace=False)\n",
    "    for index in randlist:\n",
    "        newvocab[keys[index]] = vocab[keys[index]]\n",
    "    return newvocab\n",
    "\n",
    "\n",
    "def get_vocab(genre, value1, value2):\n",
    "    vocab0, vocab1, vocab2 = {}, {}, {}\n",
    "    genre = genre.lower()\n",
    "    value1 = value1.lower()\n",
    "    value2 = value2.lower()\n",
    "\n",
    "    #get genre vocab\n",
    "    vocab0 = get_genre_vocab(genre)\n",
    "    #get value #1 vocab \n",
    "    if value1 != '':\n",
    "        vocab1 = get_value_vocab(value1)\n",
    "    #get value #2 vocab \n",
    "    if value2 != '':\n",
    "        vocab2 = get_value_vocab(value2)\n",
    "    vocab = {}\n",
    "    for key in vocab0.keys():\n",
    "        vocab[key] = vocab0[key]\n",
    "    for key in vocab1.keys():\n",
    "        vocab[key] = vocab1[key]\n",
    "    for key in vocab2.keys():\n",
    "        vocab[key] = vocab2[key]        \n",
    "    # vocab = vocab0 | vocab1 | vocab2\n",
    "    if len(vocab.keys()) > 300:\n",
    "        vocab = rand_selection(vocab)\n",
    "    return vocab\n",
    "\n",
    "\n",
    "def get_starter(genre):\n",
    "    if genre == 'science fiction':\n",
    "        return scifi_starters\n",
    "    elif genre == \"horror\":\n",
    "        return horror_starters\n",
    "    elif genre == \"fantasy\":\n",
    "        return fantasy_starters\n",
    "    elif genre == \"realistic fiction\":\n",
    "        return realfic_starters\n"
   ]
  },
  {
   "cell_type": "code",
   "execution_count": 46,
   "metadata": {},
   "outputs": [
    {
     "name": "stdout",
     "output_type": "stream",
     "text": [
      "<|startoftext|> <12> <action> determination friendship. One day,  Aravind (Vijaya Povirap), is a photographer who got himself transferred, in the middle of nowhere with an assignment. While he is being sent a guide there to cover a political news championship in a rural area of Kerala - He meets a group led behind a circle ostensibly involved in the publication, called The photographski and some more; A strange and menacing incidents take place, further complicating Aravand's life further, as he finds himself drawn into an alluring local environment that has been piqued of both admiration and hate for politicians and self-st creeped snobs. He soon realizes the power and the slush he finds amongst a group, is very real, there's power and has a edge in it and also, one with a powerful and tainted Minister, thus moves into the picture and his identity as the subject of The Pluncher Party's Kerala Cabinet. This new Aravind, in spite of all attempts, to charm the people behind The Plen's demise is nothing but the photographer and his life becomes miserable - he loses interest and eventually even starts seeing the ghosts (like the image appearing in a cameo of Akshanya). And then there comes A possessive childhood, which he tries his hand on a spiritual call - one with a bad influence, and a tender kiss with a good wife (Santhoshi)<|endoftext|> <3> <|pad|> <|pad|> <|pad|> <|pad|>  mist July <|pad|>  April <|pad|> <|pad|>  April of the July 3d local season ( waterfall,\n"
     ]
    }
   ],
   "source": [
    "prompt = \"<|startoftext|> <12> <action> determination friendship. One day, \"\n",
    "generated = torch.tensor(tokenizer.encode(prompt)).unsqueeze(0)\n",
    "generated = generated.to(device)\n",
    "generated_tokens = filtered_generate(model,tokenizer, generated, device, max_new_tokens=300, temperature=0.8, do_sample=False, top_k=5,\\\n",
    "                                     filter_words=[], bias_words=[], prevent_repition=True, prevent_repition_bias=1)\n",
    "generated_story = tokenizer.decode(generated_tokens[0])#.split(\">\")[3]\n",
    "print(generated_story)"
   ]
  },
  {
   "cell_type": "code",
   "execution_count": 100,
   "metadata": {},
   "outputs": [],
   "source": [
    "# def get_words_not_for_kids(levels_address = 'english_level/processed_words_level/'):\n",
    "#     # returns 1 for kids, 0 for adults\n",
    "#     A = []\n",
    "#     B = []\n",
    "#     C = []\n",
    "#     with open(levels_address + \"level_0.txt\",'r') as f:\n",
    "#         A.extend(f.readlines())\n",
    "#         A = [w.strip() for w in A]\n",
    "#     with open(levels_address + \"level_1.txt\",'r') as f:\n",
    "#         B.extend(f.readlines())\n",
    "#         B = [w.strip() for w in B]\n",
    "#     with open(levels_address + \"level_2.txt\",'r') as f:\n",
    "#         B.extend(f.readlines())\n",
    "#         B = [w.strip() for w in B]\n",
    "#     with open(levels_address + \"level_3.txt\",'r') as f:\n",
    "#         C.extend(f.readlines())\n",
    "#         C = [w.strip() for w in C]    \n",
    "#     with open(levels_address + \"level_4.txt\",'r') as f:\n",
    "#         C.extend(f.readlines())\n",
    "#         C = [w.strip() for w in C]    \n",
    "#     return list(set(C) - set(B) - set(A))\n",
    "\n",
    "# difficult_words = get_words_not_for_kids(levels_address = 'data/english_level/processed_words_level/')"
   ]
  },
  {
   "cell_type": "code",
   "execution_count": 104,
   "metadata": {},
   "outputs": [],
   "source": [
    "# difficult_words.sort(key=len)\n",
    "# difficult_words = difficult_words[::-1]\n",
    "# difficult_words = [d for d in difficult_words if \"/\" not in d]\n",
    "# difficult_words_selected = difficult_words[:50]"
   ]
  },
  {
   "cell_type": "markdown",
   "metadata": {},
   "source": [
    "## Model Fine-tuning (Second step)"
   ]
  },
  {
   "cell_type": "code",
   "execution_count": 106,
   "metadata": {},
   "outputs": [],
   "source": [
    "import pandas as pd\n",
    "import numpy as np\n",
    "\n",
    "df = pd.read_excel(\"./data/raw_data/childrenstories.xlsx\")\n",
    "values = list(df.value.dropna())\n",
    "values = [[q.strip() for q in v.split(\",\")] for v in values]\n",
    "all_values_set = []\n",
    "for v in values:\n",
    "    all_values_set = all_values_set + v\n",
    "all_values_set = list(set(all_values_set))\n",
    "\n",
    "texts = list(df.text.dropna())"
   ]
  },
  {
   "cell_type": "code",
   "execution_count": 108,
   "metadata": {},
   "outputs": [],
   "source": [
    "def add_labels_values(story,values=[]):\n",
    "    story = story.replace('\"',\"\").replace(\"\\'\",\"\").replace('\\n',\"\")\n",
    "    genre = get_genre(story)\n",
    "    grade = str(int(calculate_grade(story)))\n",
    "    sample_processed_story = \"<{}> <{}>\".format(grade, 'fantasy')\n",
    "    for v in values:\n",
    "        sample_processed_story += \" <{}>\".format(v)\n",
    "    sample_processed_story += \" {}\".format(story)\n",
    "    return sample_processed_story"
   ]
  },
  {
   "cell_type": "code",
   "execution_count": 109,
   "metadata": {},
   "outputs": [
    {
     "name": "stdout",
     "output_type": "stream",
     "text": [
      "72\n"
     ]
    },
    {
     "name": "stderr",
     "output_type": "stream",
     "text": [
      "100%|██████████████████████████████████████████████████████████████████████████████████| 72/72 [01:27<00:00,  1.22s/it]\n"
     ]
    }
   ],
   "source": [
    "print(len(texts))\n",
    "processed_stories = []\n",
    "for i in tqdm(range(len(texts))):\n",
    "    try:\n",
    "        processed_stories.append(add_labels_values(texts[i], values[i]))\n",
    "    except:\n",
    "        pass"
   ]
  },
  {
   "cell_type": "code",
   "execution_count": 111,
   "metadata": {},
   "outputs": [
    {
     "name": "stdout",
     "output_type": "stream",
     "text": [
      "<6> <fantasy> <appearance> <beauty> An Ant nimbly running about in the sunshine in search of food came across a Chrysalis that was very near its time of change. The Chrysalis moved its tail, and thus attracted the attention of the Ant, who then saw for the first time that it was alive. Poor, pitiable animal! cried the Ant disdainfully. What a sad fate is yours!While I can run hither and thither, at my pleasure, and, if I wish, ascend the tallest tree, you lie imprisoned here in your shell, with power only to move a joint or two of your scaly tail. The Chrysalis heard all this, but did not try to make any reply. A few days after, when the Ant passed that way again, nothing but the shell remained. Wondering what had become of its contents, he felt himself suddenlyshaded and fanned by the gorgeous wings of a beautiful Butterfly. Behold in me, said the Butterfly, your much-pitied friend! Boast now of your powers to run and climb as long as you can get me to listen. So saying, the Butterfly rose in the air, and, borne along and aloft on the summer breeze, was soon lost to the sight of the Ant forever. Appearances are deceptive.\n"
     ]
    }
   ],
   "source": [
    "print(processed_stories[0])"
   ]
  },
  {
   "cell_type": "code",
   "execution_count": 113,
   "metadata": {},
   "outputs": [],
   "source": [
    "df = pd.DataFrame(processed_stories,columns =['story'])"
   ]
  },
  {
   "cell_type": "code",
   "execution_count": 121,
   "metadata": {},
   "outputs": [
    {
     "data": {
      "text/plain": [
       "0     <6> <fantasy> <appearance> <beauty> An Ant nim...\n",
       "1     <6> <fantasy> <cooperation> <friendship> <team...\n",
       "2     <6> <fantasy> <mindfulness> <foresight> In a f...\n",
       "3     <5> <fantasy> <perserverance> <confidence> <hu...\n",
       "4     <9> <fantasy> <appearance> <deception> A Wolf ...\n",
       "                            ...                        \n",
       "67    <5> <fantasy> <perserverance> <determination> ...\n",
       "68    <5> <fantasy> <appearance> <beauty> <happiness...\n",
       "69    <5> <fantasy> <happiness> <love> Once upon a t...\n",
       "70    <4> <fantasy> <greed> <cleverness perserveranc...\n",
       "71    <5> <fantasy> <greed> <atonement> <cooperation...\n",
       "Name: story, Length: 72, dtype: object"
      ]
     },
     "execution_count": 121,
     "metadata": {},
     "output_type": "execute_result"
    }
   ],
   "source": [
    "df.dropna(inplace=True) #remove NA values\n",
    "df_stories_2 = df.story.copy() #just use the main bio text in this example\n",
    "df_stories_2"
   ]
  },
  {
   "cell_type": "code",
   "execution_count": 116,
   "metadata": {},
   "outputs": [
    {
     "data": {
      "text/plain": [
       "['appearance',\n",
       " 'perserverance',\n",
       " 'cleverness',\n",
       " 'naivety',\n",
       " 'hubris',\n",
       " 'cooperation',\n",
       " 'beauty',\n",
       " 'determination',\n",
       " 'kindness',\n",
       " 'foresight',\n",
       " 'greed',\n",
       " 'love',\n",
       " 'friendship',\n",
       " 'sharing',\n",
       " 'confidence',\n",
       " 'teamwork',\n",
       " 'atonement',\n",
       " 'patience',\n",
       " 'mindfulness',\n",
       " 'cleverness perserverance',\n",
       " 'honesty',\n",
       " 'happiness',\n",
       " 'strength',\n",
       " 'deception',\n",
       " 'quality']"
      ]
     },
     "execution_count": 116,
     "metadata": {},
     "output_type": "execute_result"
    }
   ],
   "source": [
    "all_values_set"
   ]
  },
  {
   "cell_type": "code",
   "execution_count": 117,
   "metadata": {},
   "outputs": [
    {
     "name": "stdout",
     "output_type": "stream",
     "text": [
      "['<appearance>', '<perserverance>', '<cleverness>', '<naivety>', '<hubris>', '<cooperation>', '<beauty>', '<determination>', '<kindness>', '<foresight>', '<greed>', '<love>', '<friendship>', '<sharing>', '<confidence>', '<teamwork>', '<atonement>', '<patience>', '<mindfulness>', '<cleverness perserverance>', '<honesty>', '<happiness>', '<strength>', '<deception>', '<quality>']\n"
     ]
    }
   ],
   "source": [
    "new_tokens = [\"<{}>\".format(v) for v in all_values_set]\n",
    "print(new_tokens)"
   ]
  },
  {
   "cell_type": "code",
   "execution_count": 118,
   "metadata": {},
   "outputs": [],
   "source": [
    "for t in new_tokens:\n",
    "    tokenizer.add_tokens(t)"
   ]
  },
  {
   "cell_type": "code",
   "execution_count": 119,
   "metadata": {},
   "outputs": [
    {
     "data": {
      "text/plain": [
       "50302"
      ]
     },
     "execution_count": 119,
     "metadata": {},
     "output_type": "execute_result"
    }
   ],
   "source": [
    "len(tokenizer)"
   ]
  },
  {
   "cell_type": "code",
   "execution_count": 122,
   "metadata": {},
   "outputs": [
    {
     "name": "stdout",
     "output_type": "stream",
     "text": [
      "   64 training samples\n",
      "    8 validation samples\n"
     ]
    }
   ],
   "source": [
    "dataset = GPT2Dataset(df_stories_2, tokenizer, max_length=512)\n",
    "\n",
    "# Split into training and validation sets\n",
    "train_size = int(0.9 * len(dataset))\n",
    "val_size = len(dataset) - train_size\n",
    "\n",
    "train_dataset, val_dataset = random_split(dataset, [train_size, val_size])\n",
    "\n",
    "print('{:>5,} training samples'.format(train_size))\n",
    "print('{:>5,} validation samples'.format(val_size))"
   ]
  },
  {
   "cell_type": "code",
   "execution_count": 123,
   "metadata": {},
   "outputs": [
    {
     "data": {
      "text/plain": [
       "GPT2LMHeadModel(\n",
       "  (transformer): GPT2Model(\n",
       "    (wte): Embedding(50302, 768)\n",
       "    (wpe): Embedding(1024, 768)\n",
       "    (drop): Dropout(p=0.1, inplace=False)\n",
       "    (h): ModuleList(\n",
       "      (0): GPT2Block(\n",
       "        (ln_1): LayerNorm((768,), eps=1e-05, elementwise_affine=True)\n",
       "        (attn): GPT2Attention(\n",
       "          (c_attn): Conv1D()\n",
       "          (c_proj): Conv1D()\n",
       "          (attn_dropout): Dropout(p=0.1, inplace=False)\n",
       "          (resid_dropout): Dropout(p=0.1, inplace=False)\n",
       "        )\n",
       "        (ln_2): LayerNorm((768,), eps=1e-05, elementwise_affine=True)\n",
       "        (mlp): GPT2MLP(\n",
       "          (c_fc): Conv1D()\n",
       "          (c_proj): Conv1D()\n",
       "          (act): NewGELUActivation()\n",
       "          (dropout): Dropout(p=0.1, inplace=False)\n",
       "        )\n",
       "      )\n",
       "      (1): GPT2Block(\n",
       "        (ln_1): LayerNorm((768,), eps=1e-05, elementwise_affine=True)\n",
       "        (attn): GPT2Attention(\n",
       "          (c_attn): Conv1D()\n",
       "          (c_proj): Conv1D()\n",
       "          (attn_dropout): Dropout(p=0.1, inplace=False)\n",
       "          (resid_dropout): Dropout(p=0.1, inplace=False)\n",
       "        )\n",
       "        (ln_2): LayerNorm((768,), eps=1e-05, elementwise_affine=True)\n",
       "        (mlp): GPT2MLP(\n",
       "          (c_fc): Conv1D()\n",
       "          (c_proj): Conv1D()\n",
       "          (act): NewGELUActivation()\n",
       "          (dropout): Dropout(p=0.1, inplace=False)\n",
       "        )\n",
       "      )\n",
       "      (2): GPT2Block(\n",
       "        (ln_1): LayerNorm((768,), eps=1e-05, elementwise_affine=True)\n",
       "        (attn): GPT2Attention(\n",
       "          (c_attn): Conv1D()\n",
       "          (c_proj): Conv1D()\n",
       "          (attn_dropout): Dropout(p=0.1, inplace=False)\n",
       "          (resid_dropout): Dropout(p=0.1, inplace=False)\n",
       "        )\n",
       "        (ln_2): LayerNorm((768,), eps=1e-05, elementwise_affine=True)\n",
       "        (mlp): GPT2MLP(\n",
       "          (c_fc): Conv1D()\n",
       "          (c_proj): Conv1D()\n",
       "          (act): NewGELUActivation()\n",
       "          (dropout): Dropout(p=0.1, inplace=False)\n",
       "        )\n",
       "      )\n",
       "      (3): GPT2Block(\n",
       "        (ln_1): LayerNorm((768,), eps=1e-05, elementwise_affine=True)\n",
       "        (attn): GPT2Attention(\n",
       "          (c_attn): Conv1D()\n",
       "          (c_proj): Conv1D()\n",
       "          (attn_dropout): Dropout(p=0.1, inplace=False)\n",
       "          (resid_dropout): Dropout(p=0.1, inplace=False)\n",
       "        )\n",
       "        (ln_2): LayerNorm((768,), eps=1e-05, elementwise_affine=True)\n",
       "        (mlp): GPT2MLP(\n",
       "          (c_fc): Conv1D()\n",
       "          (c_proj): Conv1D()\n",
       "          (act): NewGELUActivation()\n",
       "          (dropout): Dropout(p=0.1, inplace=False)\n",
       "        )\n",
       "      )\n",
       "      (4): GPT2Block(\n",
       "        (ln_1): LayerNorm((768,), eps=1e-05, elementwise_affine=True)\n",
       "        (attn): GPT2Attention(\n",
       "          (c_attn): Conv1D()\n",
       "          (c_proj): Conv1D()\n",
       "          (attn_dropout): Dropout(p=0.1, inplace=False)\n",
       "          (resid_dropout): Dropout(p=0.1, inplace=False)\n",
       "        )\n",
       "        (ln_2): LayerNorm((768,), eps=1e-05, elementwise_affine=True)\n",
       "        (mlp): GPT2MLP(\n",
       "          (c_fc): Conv1D()\n",
       "          (c_proj): Conv1D()\n",
       "          (act): NewGELUActivation()\n",
       "          (dropout): Dropout(p=0.1, inplace=False)\n",
       "        )\n",
       "      )\n",
       "      (5): GPT2Block(\n",
       "        (ln_1): LayerNorm((768,), eps=1e-05, elementwise_affine=True)\n",
       "        (attn): GPT2Attention(\n",
       "          (c_attn): Conv1D()\n",
       "          (c_proj): Conv1D()\n",
       "          (attn_dropout): Dropout(p=0.1, inplace=False)\n",
       "          (resid_dropout): Dropout(p=0.1, inplace=False)\n",
       "        )\n",
       "        (ln_2): LayerNorm((768,), eps=1e-05, elementwise_affine=True)\n",
       "        (mlp): GPT2MLP(\n",
       "          (c_fc): Conv1D()\n",
       "          (c_proj): Conv1D()\n",
       "          (act): NewGELUActivation()\n",
       "          (dropout): Dropout(p=0.1, inplace=False)\n",
       "        )\n",
       "      )\n",
       "      (6): GPT2Block(\n",
       "        (ln_1): LayerNorm((768,), eps=1e-05, elementwise_affine=True)\n",
       "        (attn): GPT2Attention(\n",
       "          (c_attn): Conv1D()\n",
       "          (c_proj): Conv1D()\n",
       "          (attn_dropout): Dropout(p=0.1, inplace=False)\n",
       "          (resid_dropout): Dropout(p=0.1, inplace=False)\n",
       "        )\n",
       "        (ln_2): LayerNorm((768,), eps=1e-05, elementwise_affine=True)\n",
       "        (mlp): GPT2MLP(\n",
       "          (c_fc): Conv1D()\n",
       "          (c_proj): Conv1D()\n",
       "          (act): NewGELUActivation()\n",
       "          (dropout): Dropout(p=0.1, inplace=False)\n",
       "        )\n",
       "      )\n",
       "      (7): GPT2Block(\n",
       "        (ln_1): LayerNorm((768,), eps=1e-05, elementwise_affine=True)\n",
       "        (attn): GPT2Attention(\n",
       "          (c_attn): Conv1D()\n",
       "          (c_proj): Conv1D()\n",
       "          (attn_dropout): Dropout(p=0.1, inplace=False)\n",
       "          (resid_dropout): Dropout(p=0.1, inplace=False)\n",
       "        )\n",
       "        (ln_2): LayerNorm((768,), eps=1e-05, elementwise_affine=True)\n",
       "        (mlp): GPT2MLP(\n",
       "          (c_fc): Conv1D()\n",
       "          (c_proj): Conv1D()\n",
       "          (act): NewGELUActivation()\n",
       "          (dropout): Dropout(p=0.1, inplace=False)\n",
       "        )\n",
       "      )\n",
       "      (8): GPT2Block(\n",
       "        (ln_1): LayerNorm((768,), eps=1e-05, elementwise_affine=True)\n",
       "        (attn): GPT2Attention(\n",
       "          (c_attn): Conv1D()\n",
       "          (c_proj): Conv1D()\n",
       "          (attn_dropout): Dropout(p=0.1, inplace=False)\n",
       "          (resid_dropout): Dropout(p=0.1, inplace=False)\n",
       "        )\n",
       "        (ln_2): LayerNorm((768,), eps=1e-05, elementwise_affine=True)\n",
       "        (mlp): GPT2MLP(\n",
       "          (c_fc): Conv1D()\n",
       "          (c_proj): Conv1D()\n",
       "          (act): NewGELUActivation()\n",
       "          (dropout): Dropout(p=0.1, inplace=False)\n",
       "        )\n",
       "      )\n",
       "      (9): GPT2Block(\n",
       "        (ln_1): LayerNorm((768,), eps=1e-05, elementwise_affine=True)\n",
       "        (attn): GPT2Attention(\n",
       "          (c_attn): Conv1D()\n",
       "          (c_proj): Conv1D()\n",
       "          (attn_dropout): Dropout(p=0.1, inplace=False)\n",
       "          (resid_dropout): Dropout(p=0.1, inplace=False)\n",
       "        )\n",
       "        (ln_2): LayerNorm((768,), eps=1e-05, elementwise_affine=True)\n",
       "        (mlp): GPT2MLP(\n",
       "          (c_fc): Conv1D()\n",
       "          (c_proj): Conv1D()\n",
       "          (act): NewGELUActivation()\n",
       "          (dropout): Dropout(p=0.1, inplace=False)\n",
       "        )\n",
       "      )\n",
       "      (10): GPT2Block(\n",
       "        (ln_1): LayerNorm((768,), eps=1e-05, elementwise_affine=True)\n",
       "        (attn): GPT2Attention(\n",
       "          (c_attn): Conv1D()\n",
       "          (c_proj): Conv1D()\n",
       "          (attn_dropout): Dropout(p=0.1, inplace=False)\n",
       "          (resid_dropout): Dropout(p=0.1, inplace=False)\n",
       "        )\n",
       "        (ln_2): LayerNorm((768,), eps=1e-05, elementwise_affine=True)\n",
       "        (mlp): GPT2MLP(\n",
       "          (c_fc): Conv1D()\n",
       "          (c_proj): Conv1D()\n",
       "          (act): NewGELUActivation()\n",
       "          (dropout): Dropout(p=0.1, inplace=False)\n",
       "        )\n",
       "      )\n",
       "      (11): GPT2Block(\n",
       "        (ln_1): LayerNorm((768,), eps=1e-05, elementwise_affine=True)\n",
       "        (attn): GPT2Attention(\n",
       "          (c_attn): Conv1D()\n",
       "          (c_proj): Conv1D()\n",
       "          (attn_dropout): Dropout(p=0.1, inplace=False)\n",
       "          (resid_dropout): Dropout(p=0.1, inplace=False)\n",
       "        )\n",
       "        (ln_2): LayerNorm((768,), eps=1e-05, elementwise_affine=True)\n",
       "        (mlp): GPT2MLP(\n",
       "          (c_fc): Conv1D()\n",
       "          (c_proj): Conv1D()\n",
       "          (act): NewGELUActivation()\n",
       "          (dropout): Dropout(p=0.1, inplace=False)\n",
       "        )\n",
       "      )\n",
       "    )\n",
       "    (ln_f): LayerNorm((768,), eps=1e-05, elementwise_affine=True)\n",
       "  )\n",
       "  (lm_head): Linear(in_features=768, out_features=50302, bias=False)\n",
       ")"
      ]
     },
     "execution_count": 123,
     "metadata": {},
     "output_type": "execute_result"
    }
   ],
   "source": [
    "configuration = GPT2Config.from_pretrained('./gpt2_all_story_model_save_huggingface/', output_hidden_states=False)\n",
    "\n",
    "model = GPT2LMHeadModel.from_pretrained('./gpt2_all_story_model_save_huggingface/', config=configuration)\n",
    "\n",
    "model.resize_token_embeddings(len(tokenizer))\n",
    "\n",
    "# cpu is enough :)\n",
    "device = torch.device(\"cpu\")\n",
    "model.to(device)"
   ]
  },
  {
   "cell_type": "code",
   "execution_count": 124,
   "metadata": {},
   "outputs": [],
   "source": [
    "batch_size = 4\n",
    "train_dataloader = DataLoader(\n",
    "            train_dataset,  # The training samples.\n",
    "            sampler = RandomSampler(train_dataset), # Select batches randomly\n",
    "            batch_size = batch_size # Trains with this batch size.\n",
    "        )\n",
    "\n",
    "validation_dataloader = DataLoader(\n",
    "            val_dataset, # The validation samples.\n",
    "            sampler = SequentialSampler(val_dataset), # Pull out batches sequentially.\n",
    "            batch_size = batch_size # Evaluate with this batch size.\n",
    "        )\n",
    "\t\t\n",
    "device = torch.device(\"cpu\")\n",
    "model.to(device)\n",
    "\n",
    "\n",
    "epochs = 10\n",
    "learning_rate = 5e-5\n",
    "warmup_steps = 1e2\n",
    "epsilon = 1e-8\n",
    "\n",
    "# sample_every = 20\n",
    "\n",
    "optimizer = AdamW(model.parameters(), lr = learning_rate, eps = epsilon)\n",
    "\n",
    "total_steps = len(train_dataloader) * epochs\n",
    "\n",
    "scheduler = get_linear_schedule_with_warmup(optimizer, \n",
    "                                            num_warmup_steps = warmup_steps, \n",
    "                                            num_training_steps = total_steps)\n",
    "\n",
    "\n"
   ]
  },
  {
   "cell_type": "code",
   "execution_count": 125,
   "metadata": {},
   "outputs": [],
   "source": [
    "def format_time(elapsed):\n",
    "    return str(datetime.timedelta(seconds=int(round((elapsed)))))"
   ]
  },
  {
   "cell_type": "code",
   "execution_count": 126,
   "metadata": {},
   "outputs": [
    {
     "name": "stdout",
     "output_type": "stream",
     "text": [
      "\n",
      "======== Epoch 1 / 10 ========\n",
      "Training...\n",
      "\n",
      "  Average training loss: 2.73\n",
      "  Training epoch took: 0:04:21\n",
      "\n",
      "Running Validation...\n",
      "  Validation Loss: 2.59\n",
      "  Validation took: 0:00:11\n",
      "\n",
      "======== Epoch 2 / 10 ========\n",
      "Training...\n",
      "\n",
      "  Average training loss: 2.60\n",
      "  Training epoch took: 0:04:18\n",
      "\n",
      "Running Validation...\n",
      "  Validation Loss: 2.56\n",
      "  Validation took: 0:00:12\n",
      "\n",
      "======== Epoch 3 / 10 ========\n",
      "Training...\n",
      "\n",
      "  Average training loss: 2.55\n",
      "  Training epoch took: 0:04:16\n",
      "\n",
      "Running Validation...\n",
      "  Validation Loss: 2.53\n",
      "  Validation took: 0:00:11\n",
      "\n",
      "======== Epoch 4 / 10 ========\n",
      "Training...\n",
      "\n",
      "  Average training loss: 2.49\n",
      "  Training epoch took: 0:04:14\n",
      "\n",
      "Running Validation...\n",
      "  Validation Loss: 2.50\n",
      "  Validation took: 0:00:11\n",
      "\n",
      "======== Epoch 5 / 10 ========\n",
      "Training...\n",
      "\n",
      "  Average training loss: 2.41\n",
      "  Training epoch took: 0:04:16\n",
      "\n",
      "Running Validation...\n",
      "  Validation Loss: 2.47\n",
      "  Validation took: 0:00:11\n",
      "\n",
      "======== Epoch 6 / 10 ========\n",
      "Training...\n",
      "\n",
      "  Average training loss: 2.33\n",
      "  Training epoch took: 0:04:19\n",
      "\n",
      "Running Validation...\n",
      "  Validation Loss: 2.45\n",
      "  Validation took: 0:00:11\n",
      "\n",
      "======== Epoch 7 / 10 ========\n",
      "Training...\n",
      "\n",
      "  Average training loss: 2.25\n",
      "  Training epoch took: 0:04:18\n",
      "\n",
      "Running Validation...\n",
      "  Validation Loss: 2.44\n",
      "  Validation took: 0:00:12\n",
      "\n",
      "======== Epoch 8 / 10 ========\n",
      "Training...\n",
      "\n",
      "  Average training loss: 2.18\n",
      "  Training epoch took: 0:04:20\n",
      "\n",
      "Running Validation...\n",
      "  Validation Loss: 2.43\n",
      "  Validation took: 0:00:11\n",
      "\n",
      "======== Epoch 9 / 10 ========\n",
      "Training...\n",
      "\n",
      "  Average training loss: 2.13\n",
      "  Training epoch took: 0:04:17\n",
      "\n",
      "Running Validation...\n",
      "  Validation Loss: 2.42\n",
      "  Validation took: 0:00:12\n",
      "\n",
      "======== Epoch 10 / 10 ========\n",
      "Training...\n",
      "\n",
      "  Average training loss: 2.10\n",
      "  Training epoch took: 0:04:16\n",
      "\n",
      "Running Validation...\n",
      "  Validation Loss: 2.42\n",
      "  Validation took: 0:00:12\n",
      "\n",
      "Training complete!\n",
      "Total training took 0:44:55 (h:mm:ss)\n"
     ]
    }
   ],
   "source": [
    "total_t0 = time.time()\n",
    "\n",
    "training_stats = []\n",
    "val_losses = []\n",
    "device = torch.device(\"cpu\")\n",
    "model = model.to(device)\n",
    "\n",
    "output_dir = './gpt2_all_story_model_save_huggingface_step2/'\n",
    "\n",
    "if not os.path.exists(output_dir):\n",
    "    os.makedirs(output_dir)\n",
    "\n",
    "for epoch_i in range(0, epochs):\n",
    "\n",
    "    print(\"\")\n",
    "    print('======== Epoch {:} / {:} ========'.format(epoch_i + 1, epochs))\n",
    "    print('Training...')\n",
    "\n",
    "    t0 = time.time()\n",
    "\n",
    "    total_train_loss = 0\n",
    "\n",
    "    model.train()\n",
    "\n",
    "    for step, batch in enumerate(train_dataloader):\n",
    "\n",
    "        b_input_ids = batch[0].to(device)\n",
    "        b_labels = batch[0].to(device)\n",
    "        b_masks = batch[1].to(device)\n",
    "\n",
    "        model.zero_grad()        \n",
    "\n",
    "        outputs = model(  b_input_ids,\n",
    "                          labels=b_labels, \n",
    "                          attention_mask = b_masks,\n",
    "                          token_type_ids=None\n",
    "                        )\n",
    "\n",
    "        loss = outputs[0]  \n",
    "\n",
    "        batch_loss = loss.item()\n",
    "        total_train_loss += batch_loss\n",
    "        loss.backward()\n",
    "        optimizer.step()\n",
    "        scheduler.step()\n",
    "\n",
    "    # Calculate the average loss over all of the batches.\n",
    "    avg_train_loss = total_train_loss / len(train_dataloader)       \n",
    "    \n",
    "    # Measure how long this epoch took.\n",
    "    training_time = format_time(time.time() - t0)\n",
    "\n",
    "    print(\"\")\n",
    "    print(\"  Average training loss: {0:.2f}\".format(avg_train_loss))\n",
    "    print(\"  Training epoch took: {:}\".format(training_time))\n",
    "        \n",
    "    # ========================================\n",
    "    #               Validation\n",
    "    # ========================================\n",
    "\n",
    "    print(\"\")\n",
    "    print(\"Running Validation...\")\n",
    "\n",
    "    t0 = time.time()\n",
    "\n",
    "    model.eval()\n",
    "\n",
    "    total_eval_loss = 0\n",
    "    nb_eval_steps = 0\n",
    "\n",
    "    # Evaluate data for one epoch\n",
    "    for batch in validation_dataloader:\n",
    "        \n",
    "        b_input_ids = batch[0].to(device)\n",
    "        b_labels = batch[0].to(device)\n",
    "        b_masks = batch[1].to(device)\n",
    "        \n",
    "        with torch.no_grad():        \n",
    "\n",
    "            outputs  = model(b_input_ids, \n",
    "#                            token_type_ids=None, \n",
    "                             attention_mask = b_masks,\n",
    "                            labels=b_labels)\n",
    "          \n",
    "            loss = outputs[0]  \n",
    "            \n",
    "        batch_loss = loss.item()\n",
    "        total_eval_loss += batch_loss        \n",
    "\n",
    "    avg_val_loss = total_eval_loss / len(validation_dataloader)\n",
    "    \n",
    "    validation_time = format_time(time.time() - t0)    \n",
    "    \n",
    "    print(\"  Validation Loss: {0:.2f}\".format(avg_val_loss))\n",
    "    print(\"  Validation took: {:}\".format(validation_time))\n",
    "    \n",
    "    val_losses.append(avg_val_loss)\n",
    "    # Save the model with best accuracy on the validation set\n",
    "    if (len(val_losses)>1 and avg_val_loss < np.min(val_losses[:-1])) or len(val_losses)==1:\n",
    "        model_to_save = model.module if hasattr(model, 'module') else model  # Take care of distributed/parallel training\n",
    "        model_to_save.save_pretrained(output_dir)\n",
    "        tokenizer.save_pretrained(output_dir)\n",
    "\n",
    "    # Record all statistics from this epoch.\n",
    "    training_stats.append(\n",
    "        {\n",
    "            'epoch': epoch_i + 1,\n",
    "            'Training Loss': avg_train_loss,\n",
    "            'Valid. Loss': avg_val_loss,\n",
    "            'Training Time': training_time,\n",
    "            'Validation Time': validation_time\n",
    "        }\n",
    "    )\n",
    "\n",
    "print(\"\")\n",
    "print(\"Training complete!\")\n",
    "print(\"Total training took {:} (h:mm:ss)\".format(format_time(time.time()-total_t0)))"
   ]
  },
  {
   "cell_type": "code",
   "execution_count": 134,
   "metadata": {},
   "outputs": [
    {
     "name": "stderr",
     "output_type": "stream",
     "text": [
      "The attention mask and the pad token id were not set. As a consequence, you may observe unexpected behavior. Please pass your input's `attention_mask` to obtain reliable results.\n",
      "Setting `pad_token_id` to `eos_token_id`:50256 for open-end generation.\n"
     ]
    },
    {
     "name": "stdout",
     "output_type": "stream",
     "text": [
      "tensor([[50257, 50264,    27, 50276,    29, 50288]])\n",
      "0: <6> < fantasy > <love> <perserverance> <strength> A young boy, who lived in Africa, fell in love with a man named Nani. He saw her and his mother together. They lived happily ever after.He loved Nani. He loved her deeply, but he was too afraid of what he would do to him. His mother was very happy to see him and married Nani.He was too afraid of what he would do to Nani, but her mother had not. He loved her deeply and very much. He loved her deeply. He loved Nani very much. He loved her so much. He loved her very much. But she could not bear to live away any longer. It was too late.A day while she was sleeping in a small room. She had heard her mother crying for help. She was asleep in bed. She was very happy.She could not sleep, because she was very close to dying from a fever.She could not sleep.She could not sleep\n",
      "\n",
      "\n",
      "1: <6> < fantasy > <love> <perserverance> A man is about to be sacrificed in order to save a princess who had fallen in love with an ugly peasant. But a poor peasant (Manon) saves him by saying he will get rid of the princess and return with a handsome young man to the village.\n",
      "\n",
      "\n",
      "2: <6> < fantasy > <love> <confidence> <naivety> <determination> <foresight> A warrior is on his deathbed, so the warrior goes with the horse back to his village to save him from being sold. The young man who is carrying on the rescue was so angry that the young boy killed him, and was carried away by the other warriors. He soon finds himself being hunted by the other warriors, who are after him.The young man and his father are the sons of the king's wife (Konak) and the young man (Hiroshi). The young man, who has no ambition of any more, is not the boy his father would be after, but a young man.\n",
      "\n",
      "\n"
     ]
    }
   ],
   "source": [
    "model.eval()\n",
    "\n",
    "prompt = \"<|startoftext|> <6> <fantasy> <love>\"\n",
    "\n",
    "generated = torch.tensor(tokenizer.encode(prompt)).unsqueeze(0)\n",
    "generated = generated.to(device)\n",
    "\n",
    "print(generated)\n",
    "\n",
    "sample_outputs = model.generate(\n",
    "                                generated, \n",
    "                                #bos_token_id=random.randint(1,30000),\n",
    "                                do_sample=True,   \n",
    "                                top_k=20, \n",
    "                                max_length = 200,\n",
    "                                top_p=0.95, \n",
    "                                num_return_sequences=3\n",
    "                                )\n",
    "\n",
    "for i, sample_output in enumerate(sample_outputs):\n",
    "  print(\"{}: {}\\n\\n\".format(i, tokenizer.decode(sample_output, skip_special_tokens=True)))"
   ]
  },
  {
   "cell_type": "code",
   "execution_count": 133,
   "metadata": {},
   "outputs": [
    {
     "data": {
      "text/html": [
       "<div>\n",
       "<style scoped>\n",
       "    .dataframe tbody tr th:only-of-type {\n",
       "        vertical-align: middle;\n",
       "    }\n",
       "\n",
       "    .dataframe tbody tr th {\n",
       "        vertical-align: top;\n",
       "    }\n",
       "\n",
       "    .dataframe thead th {\n",
       "        text-align: right;\n",
       "    }\n",
       "</style>\n",
       "<table border=\"1\" class=\"dataframe\">\n",
       "  <thead>\n",
       "    <tr style=\"text-align: right;\">\n",
       "      <th></th>\n",
       "      <th>Training Loss</th>\n",
       "      <th>Valid. Loss</th>\n",
       "      <th>Training Time</th>\n",
       "      <th>Validation Time</th>\n",
       "    </tr>\n",
       "    <tr>\n",
       "      <th>epoch</th>\n",
       "      <th></th>\n",
       "      <th></th>\n",
       "      <th></th>\n",
       "      <th></th>\n",
       "    </tr>\n",
       "  </thead>\n",
       "  <tbody>\n",
       "    <tr>\n",
       "      <th>1</th>\n",
       "      <td>2.729474</td>\n",
       "      <td>2.589924</td>\n",
       "      <td>0:04:21</td>\n",
       "      <td>0:00:11</td>\n",
       "    </tr>\n",
       "    <tr>\n",
       "      <th>2</th>\n",
       "      <td>2.600548</td>\n",
       "      <td>2.562839</td>\n",
       "      <td>0:04:18</td>\n",
       "      <td>0:00:12</td>\n",
       "    </tr>\n",
       "    <tr>\n",
       "      <th>3</th>\n",
       "      <td>2.548863</td>\n",
       "      <td>2.529752</td>\n",
       "      <td>0:04:16</td>\n",
       "      <td>0:00:11</td>\n",
       "    </tr>\n",
       "    <tr>\n",
       "      <th>4</th>\n",
       "      <td>2.485149</td>\n",
       "      <td>2.498734</td>\n",
       "      <td>0:04:14</td>\n",
       "      <td>0:00:11</td>\n",
       "    </tr>\n",
       "    <tr>\n",
       "      <th>5</th>\n",
       "      <td>2.414100</td>\n",
       "      <td>2.472119</td>\n",
       "      <td>0:04:16</td>\n",
       "      <td>0:00:11</td>\n",
       "    </tr>\n",
       "    <tr>\n",
       "      <th>6</th>\n",
       "      <td>2.331565</td>\n",
       "      <td>2.450665</td>\n",
       "      <td>0:04:19</td>\n",
       "      <td>0:00:11</td>\n",
       "    </tr>\n",
       "    <tr>\n",
       "      <th>7</th>\n",
       "      <td>2.254478</td>\n",
       "      <td>2.435557</td>\n",
       "      <td>0:04:18</td>\n",
       "      <td>0:00:12</td>\n",
       "    </tr>\n",
       "    <tr>\n",
       "      <th>8</th>\n",
       "      <td>2.182169</td>\n",
       "      <td>2.427783</td>\n",
       "      <td>0:04:20</td>\n",
       "      <td>0:00:11</td>\n",
       "    </tr>\n",
       "    <tr>\n",
       "      <th>9</th>\n",
       "      <td>2.128861</td>\n",
       "      <td>2.424704</td>\n",
       "      <td>0:04:17</td>\n",
       "      <td>0:00:12</td>\n",
       "    </tr>\n",
       "    <tr>\n",
       "      <th>10</th>\n",
       "      <td>2.104830</td>\n",
       "      <td>2.424284</td>\n",
       "      <td>0:04:16</td>\n",
       "      <td>0:00:12</td>\n",
       "    </tr>\n",
       "  </tbody>\n",
       "</table>\n",
       "</div>"
      ],
      "text/plain": [
       "       Training Loss  Valid. Loss Training Time Validation Time\n",
       "epoch                                                          \n",
       "1           2.729474     2.589924       0:04:21         0:00:11\n",
       "2           2.600548     2.562839       0:04:18         0:00:12\n",
       "3           2.548863     2.529752       0:04:16         0:00:11\n",
       "4           2.485149     2.498734       0:04:14         0:00:11\n",
       "5           2.414100     2.472119       0:04:16         0:00:11\n",
       "6           2.331565     2.450665       0:04:19         0:00:11\n",
       "7           2.254478     2.435557       0:04:18         0:00:12\n",
       "8           2.182169     2.427783       0:04:20         0:00:11\n",
       "9           2.128861     2.424704       0:04:17         0:00:12\n",
       "10          2.104830     2.424284       0:04:16         0:00:12"
      ]
     },
     "execution_count": 133,
     "metadata": {},
     "output_type": "execute_result"
    }
   ],
   "source": [
    "# Display floats with two decimal places.\n",
    "# pd.set_option('precision', 2)\n",
    "\n",
    "# Create a DataFrame from our training statistics.\n",
    "df_stats = pd.DataFrame(data=training_stats)\n",
    "\n",
    "# Use the 'epoch' as the row index.\n",
    "df_stats = df_stats.set_index('epoch')\n",
    "\n",
    "# A hack to force the column headers to wrap.\n",
    "#df = df.style.set_table_styles([dict(selector=\"th\",props=[('max-width', '70px')])])\n",
    "\n",
    "# Display the table.\n",
    "df_stats"
   ]
  },
  {
   "cell_type": "code",
   "execution_count": 131,
   "metadata": {
    "scrolled": true
   },
   "outputs": [
    {
     "data": {
      "image/png": "[encoded data removed]",
      "text/plain": [
       "<Figure size 1200x600 with 1 Axes>"
      ]
     },
     "metadata": {},
     "output_type": "display_data"
    }
   ],
   "source": [
    "# Use plot styling from seaborn.\n",
    "sns.set(style='darkgrid')\n",
    "\n",
    "# Increase the plot size and font size.\n",
    "sns.set(font_scale=1.5)\n",
    "plt.rcParams[\"figure.figsize\"] = (12,6)\n",
    "\n",
    "# Plot the learning curve.\n",
    "plt.plot(df_stats['Training Loss'], 'b-o', label=\"Training\")\n",
    "plt.plot(df_stats['Valid. Loss'], 'g-o', label=\"Validation\")\n",
    "\n",
    "# Label the plot.\n",
    "plt.title(\"Training & Validation Loss\")\n",
    "plt.xlabel(\"Epoch\")\n",
    "plt.ylabel(\"Loss\")\n",
    "plt.legend()\n",
    "plt.xticks([i+1 for i in range(1+len(df_stats['Training Loss']))])\n",
    "\n",
    "plt.show()"
   ]
  },
  {
   "cell_type": "code",
   "execution_count": 141,
   "metadata": {},
   "outputs": [],
   "source": [
    "genre = \"horror\"\n",
    "value_1 = \"friendship\"\n",
    "value_2 = \"love\"\n",
    "grade = 6\n",
    "vocab_bias = get_vocab(genre, value_1, value_2)"
   ]
  },
  {
   "cell_type": "code",
   "execution_count": 142,
   "metadata": {},
   "outputs": [
    {
     "name": "stdout",
     "output_type": "stream",
     "text": [
      "<|startoftext|> <6> < horror > <friendship> <love>. One day,  The king was in a terrible mood of mourning; he was so afraid of anyone that even he would leave the kingdom, and he decided to take a vow to bring all of this into a secret passage.  There is a great ocean and there is an enormous gold mine. There is an enormous gold mine, but there has been a long gap.  It is a great gold-mine and there is plenty that could be hidden somewhere, said an employee who gave his name as  ",
      "The King’ and gave him the nickname ”King,“ The golden mine!  There is no gold. No, no gold coins, not no jewels.  The goldmine, of the King, was very precious. He gave the royal guard to all the royal servants.  The king sent his servants to take over the reins to that very place.  But, the servants did not know who they were, nor who their master really is, but what the king is really up to is the gold mine that the King has been working at and will do.  It will have to be done by morning. The next time the guards can find their own master and get to it first, it will be very dangerous! They must make some sure of the gold mine that will make it very easy for them.<|endoftext|> <|pad|> <foresight> <cleverness> <|pad|> <foresight> <|pad|> <|pad|> <mindfulness> <foresight> <mindfulness> <strength> <|pad|> <appearance> <kindness> um to the court of public execution will remain in a very high price, but if their master\n"
     ]
    }
   ],
   "source": [
    "prompt = \"<|startoftext|> <{}> <{}> <{}> <{}>. One day, \".format(grade, genre, value_1, value_2)\n",
    "generated = torch.tensor(tokenizer.encode(prompt)).unsqueeze(0)\n",
    "generated = generated.to(device)\n",
    "generated_tokens = filtered_generate(model,tokenizer, generated, device, max_new_tokens=300, temperature=0.8, do_sample=False, top_k=5,\\\n",
    "                                     filter_words=[], bias_words=vocab_bias, prevent_repition=True, prevent_repition_bias=1)\n",
    "generated_story = tokenizer.decode(generated_tokens[0])#.split(\">\")[3]\n",
    "print(generated_story)"
   ]
  },
  {
   "cell_type": "code",
   "execution_count": 143,
   "metadata": {},
   "outputs": [
    {
     "name": "stdout",
     "output_type": "stream",
     "text": [
      "<|startoftext|> <6> < horror > <friendship> <love>. One day,  The king was in a terrible mood of mourning; he was so afraid of anyone that even he would leave the kingdom, and he decided to take a vow to bring all of this into a secret passage.  There is a great ocean and there is an enormous gold mine. There is an enormous gold mine, but there has been a long gap.  It is a great gold-mine and there is plenty that could be hidden somewhere, said an employee who gave his name as  ",
      "The King’ and gave him the nickname ”King,“ The golden mine!  There is no gold. No, no gold coins, not no jewels.  The goldmine, of the King, was very precious. He gave the royal guard to all the royal servants.  The king sent his servants to take over the reins to that very place.  But, the servants did not know who they were, nor who their master really is, but what the king is really up to is the gold mine that the King has been working at and will do.  It will have to be done by morning. The next time the guards can find their own master and get to it first, it will be very dangerous! They must make some sure of the gold mine that will make it very easy for them.\n"
     ]
    }
   ],
   "source": [
    "print(generated_story.split(\"<|endoftext|>\")[0])"
   ]
  }
 ],
 "metadata": {
  "accelerator": "GPU",
  "colab": {
   "provenance": []
  },
  "gpuClass": "standard",
  "kernelspec": {
   "display_name": "Python 3 (ipykernel)",
   "language": "python",
   "name": "python3"
  },
  "language_info": {
   "codemirror_mode": {
    "name": "ipython",
    "version": 3
   },
   "file_extension": ".py",
   "mimetype": "text/x-python",
   "name": "python",
   "nbconvert_exporter": "python",
   "pygments_lexer": "ipython3",
   "version": "3.8.13"
  },
  "widgets": {
   "application/vnd.jupyter.widget-state+json": {
    "04fcb603cd69463680046b285ede8031": {
     "model_module": "@jupyter-widgets/controls",
     "model_module_version": "1.5.0",
     "model_name": "HTMLModel",
     "state": {
      "_dom_classes": [],
      "_model_module": "@jupyter-widgets/controls",
      "_model_module_version": "1.5.0",
      "_model_name": "HTMLModel",
      "_view_count": null,
      "_view_module": "@jupyter-widgets/controls",
      "_view_module_version": "1.5.0",
      "_view_name": "HTMLView",
      "description": "",
      "description_tooltip": null,
      "layout": "IPY_MODEL_64617b8380db42a28edc058348e564cf",
      "placeholder": "​",
      "style": "IPY_MODEL_1ebad7c60b424097ad936ba7aec67872",
      "value": "Downloading: 100%"
     }
    },
    "075a9035ec6f4b5f9c821fab3083511a": {
     "model_module": "@jupyter-widgets/base",
     "model_module_version": "1.2.0",
     "model_name": "LayoutModel",
     "state": {
      "_model_module": "@jupyter-widgets/base",
      "_model_module_version": "1.2.0",
      "_model_name": "LayoutModel",
      "_view_count": null,
      "_view_module": "@jupyter-widgets/base",
      "_view_module_version": "1.2.0",
      "_view_name": "LayoutView",
      "align_content": null,
      "align_items": null,
      "align_self": null,
      "border": null,
      "bottom": null,
      "display": null,
      "flex": null,
      "flex_flow": null,
      "grid_area": null,
      "grid_auto_columns": null,
      "grid_auto_flow": null,
      "grid_auto_rows": null,
      "grid_column": null,
      "grid_gap": null,
      "grid_row": null,
      "grid_template_areas": null,
      "grid_template_columns": null,
      "grid_template_rows": null,
      "height": null,
      "justify_content": null,
      "justify_items": null,
      "left": null,
      "margin": null,
      "max_height": null,
      "max_width": null,
      "min_height": null,
      "min_width": null,
      "object_fit": null,
      "object_position": null,
      "order": null,
      "overflow": null,
      "overflow_x": null,
      "overflow_y": null,
      "padding": null,
      "right": null,
      "top": null,
      "visibility": null,
      "width": null
     }
    },
    "085ce541d4b741dfbaf56656fc7f6c05": {
     "model_module": "@jupyter-widgets/controls",
     "model_module_version": "1.5.0",
     "model_name": "HTMLModel",
     "state": {
      "_dom_classes": [],
      "_model_module": "@jupyter-widgets/controls",
      "_model_module_version": "1.5.0",
      "_model_name": "HTMLModel",
      "_view_count": null,
      "_view_module": "@jupyter-widgets/controls",
      "_view_module_version": "1.5.0",
      "_view_name": "HTMLView",
      "description": "",
      "description_tooltip": null,
      "layout": "IPY_MODEL_81adacd7162c40528f998ecad60e9b1e",
      "placeholder": "​",
      "style": "IPY_MODEL_e9da2e852d6d413e8dcc87aa92dadc27",
      "value": " 548M/548M [00:08&lt;00:00, 76.2MB/s]"
     }
    },
    "0fde73305de44fbd94760d0ea3e1a17b": {
     "model_module": "@jupyter-widgets/controls",
     "model_module_version": "1.5.0",
     "model_name": "FloatProgressModel",
     "state": {
      "_dom_classes": [],
      "_model_module": "@jupyter-widgets/controls",
      "_model_module_version": "1.5.0",
      "_model_name": "FloatProgressModel",
      "_view_count": null,
      "_view_module": "@jupyter-widgets/controls",
      "_view_module_version": "1.5.0",
      "_view_name": "ProgressView",
      "bar_style": "success",
      "description": "",
      "description_tooltip": null,
      "layout": "IPY_MODEL_4742219e10964f368c1992116044d102",
      "max": 456318,
      "min": 0,
      "orientation": "horizontal",
      "style": "IPY_MODEL_f59be919579e4d17b135659fbeab3f29",
      "value": 456318
     }
    },
    "10c41f61b4504585a53b8100cd830c17": {
     "model_module": "@jupyter-widgets/controls",
     "model_module_version": "1.5.0",
     "model_name": "DescriptionStyleModel",
     "state": {
      "_model_module": "@jupyter-widgets/controls",
      "_model_module_version": "1.5.0",
      "_model_name": "DescriptionStyleModel",
      "_view_count": null,
      "_view_module": "@jupyter-widgets/base",
      "_view_module_version": "1.2.0",
      "_view_name": "StyleView",
      "description_width": ""
     }
    },
    "10fcecf139e1487daf09f576b46fb8b9": {
     "model_module": "@jupyter-widgets/controls",
     "model_module_version": "1.5.0",
     "model_name": "DescriptionStyleModel",
     "state": {
      "_model_module": "@jupyter-widgets/controls",
      "_model_module_version": "1.5.0",
      "_model_name": "DescriptionStyleModel",
      "_view_count": null,
      "_view_module": "@jupyter-widgets/base",
      "_view_module_version": "1.2.0",
      "_view_name": "StyleView",
      "description_width": ""
     }
    },
    "1a5f59a492c54c7aab2ee2cad1c4c0d5": {
     "model_module": "@jupyter-widgets/controls",
     "model_module_version": "1.5.0",
     "model_name": "FloatProgressModel",
     "state": {
      "_dom_classes": [],
      "_model_module": "@jupyter-widgets/controls",
      "_model_module_version": "1.5.0",
      "_model_name": "FloatProgressModel",
      "_view_count": null,
      "_view_module": "@jupyter-widgets/controls",
      "_view_module_version": "1.5.0",
      "_view_name": "ProgressView",
      "bar_style": "success",
      "description": "",
      "description_tooltip": null,
      "layout": "IPY_MODEL_99f4ba6036084b7dafb0f3ea409688c0",
      "max": 548118077,
      "min": 0,
      "orientation": "horizontal",
      "style": "IPY_MODEL_51254388b2924b0ab0e33ac5c8278137",
      "value": 548118077
     }
    },
    "1ebad7c60b424097ad936ba7aec67872": {
     "model_module": "@jupyter-widgets/controls",
     "model_module_version": "1.5.0",
     "model_name": "DescriptionStyleModel",
     "state": {
      "_model_module": "@jupyter-widgets/controls",
      "_model_module_version": "1.5.0",
      "_model_name": "DescriptionStyleModel",
      "_view_count": null,
      "_view_module": "@jupyter-widgets/base",
      "_view_module_version": "1.2.0",
      "_view_name": "StyleView",
      "description_width": ""
     }
    },
    "282531fbc28e438c8b1228b4b40a8c7c": {
     "model_module": "@jupyter-widgets/controls",
     "model_module_version": "1.5.0",
     "model_name": "DescriptionStyleModel",
     "state": {
      "_model_module": "@jupyter-widgets/controls",
      "_model_module_version": "1.5.0",
      "_model_name": "DescriptionStyleModel",
      "_view_count": null,
      "_view_module": "@jupyter-widgets/base",
      "_view_module_version": "1.2.0",
      "_view_name": "StyleView",
      "description_width": ""
     }
    },
    "2faebd742ec7420e808145300b920326": {
     "model_module": "@jupyter-widgets/base",
     "model_module_version": "1.2.0",
     "model_name": "LayoutModel",
     "state": {
      "_model_module": "@jupyter-widgets/base",
      "_model_module_version": "1.2.0",
      "_model_name": "LayoutModel",
      "_view_count": null,
      "_view_module": "@jupyter-widgets/base",
      "_view_module_version": "1.2.0",
      "_view_name": "LayoutView",
      "align_content": null,
      "align_items": null,
      "align_self": null,
      "border": null,
      "bottom": null,
      "display": null,
      "flex": null,
      "flex_flow": null,
      "grid_area": null,
      "grid_auto_columns": null,
      "grid_auto_flow": null,
      "grid_auto_rows": null,
      "grid_column": null,
      "grid_gap": null,
      "grid_row": null,
      "grid_template_areas": null,
      "grid_template_columns": null,
      "grid_template_rows": null,
      "height": null,
      "justify_content": null,
      "justify_items": null,
      "left": null,
      "margin": null,
      "max_height": null,
      "max_width": null,
      "min_height": null,
      "min_width": null,
      "object_fit": null,
      "object_position": null,
      "order": null,
      "overflow": null,
      "overflow_x": null,
      "overflow_y": null,
      "padding": null,
      "right": null,
      "top": null,
      "visibility": null,
      "width": null
     }
    },
    "304c4d637e89424fb78fc095aee64385": {
     "model_module": "@jupyter-widgets/base",
     "model_module_version": "1.2.0",
     "model_name": "LayoutModel",
     "state": {
      "_model_module": "@jupyter-widgets/base",
      "_model_module_version": "1.2.0",
      "_model_name": "LayoutModel",
      "_view_count": null,
      "_view_module": "@jupyter-widgets/base",
      "_view_module_version": "1.2.0",
      "_view_name": "LayoutView",
      "align_content": null,
      "align_items": null,
      "align_self": null,
      "border": null,
      "bottom": null,
      "display": null,
      "flex": null,
      "flex_flow": null,
      "grid_area": null,
      "grid_auto_columns": null,
      "grid_auto_flow": null,
      "grid_auto_rows": null,
      "grid_column": null,
      "grid_gap": null,
      "grid_row": null,
      "grid_template_areas": null,
      "grid_template_columns": null,
      "grid_template_rows": null,
      "height": null,
      "justify_content": null,
      "justify_items": null,
      "left": null,
      "margin": null,
      "max_height": null,
      "max_width": null,
      "min_height": null,
      "min_width": null,
      "object_fit": null,
      "object_position": null,
      "order": null,
      "overflow": null,
      "overflow_x": null,
      "overflow_y": null,
      "padding": null,
      "right": null,
      "top": null,
      "visibility": null,
      "width": null
     }
    },
    "3fc963f65ea948008fe7d4790ef2e24b": {
     "model_module": "@jupyter-widgets/base",
     "model_module_version": "1.2.0",
     "model_name": "LayoutModel",
     "state": {
      "_model_module": "@jupyter-widgets/base",
      "_model_module_version": "1.2.0",
      "_model_name": "LayoutModel",
      "_view_count": null,
      "_view_module": "@jupyter-widgets/base",
      "_view_module_version": "1.2.0",
      "_view_name": "LayoutView",
      "align_content": null,
      "align_items": null,
      "align_self": null,
      "border": null,
      "bottom": null,
      "display": null,
      "flex": null,
      "flex_flow": null,
      "grid_area": null,
      "grid_auto_columns": null,
      "grid_auto_flow": null,
      "grid_auto_rows": null,
      "grid_column": null,
      "grid_gap": null,
      "grid_row": null,
      "grid_template_areas": null,
      "grid_template_columns": null,
      "grid_template_rows": null,
      "height": null,
      "justify_content": null,
      "justify_items": null,
      "left": null,
      "margin": null,
      "max_height": null,
      "max_width": null,
      "min_height": null,
      "min_width": null,
      "object_fit": null,
      "object_position": null,
      "order": null,
      "overflow": null,
      "overflow_x": null,
      "overflow_y": null,
      "padding": null,
      "right": null,
      "top": null,
      "visibility": null,
      "width": null
     }
    },
    "41dd750812ad4491b7fe4f68e3c9cee8": {
     "model_module": "@jupyter-widgets/base",
     "model_module_version": "1.2.0",
     "model_name": "LayoutModel",
     "state": {
      "_model_module": "@jupyter-widgets/base",
      "_model_module_version": "1.2.0",
      "_model_name": "LayoutModel",
      "_view_count": null,
      "_view_module": "@jupyter-widgets/base",
      "_view_module_version": "1.2.0",
      "_view_name": "LayoutView",
      "align_content": null,
      "align_items": null,
      "align_self": null,
      "border": null,
      "bottom": null,
      "display": null,
      "flex": null,
      "flex_flow": null,
      "grid_area": null,
      "grid_auto_columns": null,
      "grid_auto_flow": null,
      "grid_auto_rows": null,
      "grid_column": null,
      "grid_gap": null,
      "grid_row": null,
      "grid_template_areas": null,
      "grid_template_columns": null,
      "grid_template_rows": null,
      "height": null,
      "justify_content": null,
      "justify_items": null,
      "left": null,
      "margin": null,
      "max_height": null,
      "max_width": null,
      "min_height": null,
      "min_width": null,
      "object_fit": null,
      "object_position": null,
      "order": null,
      "overflow": null,
      "overflow_x": null,
      "overflow_y": null,
      "padding": null,
      "right": null,
      "top": null,
      "visibility": null,
      "width": null
     }
    },
    "4742219e10964f368c1992116044d102": {
     "model_module": "@jupyter-widgets/base",
     "model_module_version": "1.2.0",
     "model_name": "LayoutModel",
     "state": {
      "_model_module": "@jupyter-widgets/base",
      "_model_module_version": "1.2.0",
      "_model_name": "LayoutModel",
      "_view_count": null,
      "_view_module": "@jupyter-widgets/base",
      "_view_module_version": "1.2.0",
      "_view_name": "LayoutView",
      "align_content": null,
      "align_items": null,
      "align_self": null,
      "border": null,
      "bottom": null,
      "display": null,
      "flex": null,
      "flex_flow": null,
      "grid_area": null,
      "grid_auto_columns": null,
      "grid_auto_flow": null,
      "grid_auto_rows": null,
      "grid_column": null,
      "grid_gap": null,
      "grid_row": null,
      "grid_template_areas": null,
      "grid_template_columns": null,
      "grid_template_rows": null,
      "height": null,
      "justify_content": null,
      "justify_items": null,
      "left": null,
      "margin": null,
      "max_height": null,
      "max_width": null,
      "min_height": null,
      "min_width": null,
      "object_fit": null,
      "object_position": null,
      "order": null,
      "overflow": null,
      "overflow_x": null,
      "overflow_y": null,
      "padding": null,
      "right": null,
      "top": null,
      "visibility": null,
      "width": null
     }
    },
    "481ebd356d114d5cb44fdc5334dd37b0": {
     "model_module": "@jupyter-widgets/controls",
     "model_module_version": "1.5.0",
     "model_name": "FloatProgressModel",
     "state": {
      "_dom_classes": [],
      "_model_module": "@jupyter-widgets/controls",
      "_model_module_version": "1.5.0",
      "_model_name": "FloatProgressModel",
      "_view_count": null,
      "_view_module": "@jupyter-widgets/controls",
      "_view_module_version": "1.5.0",
      "_view_name": "ProgressView",
      "bar_style": "success",
      "description": "",
      "description_tooltip": null,
      "layout": "IPY_MODEL_6840f4a0abfa40dca51ef7f5747a1612",
      "max": 1042301,
      "min": 0,
      "orientation": "horizontal",
      "style": "IPY_MODEL_dc71aebdc0f44287a2d28aa2dfc5de67",
      "value": 1042301
     }
    },
    "51254388b2924b0ab0e33ac5c8278137": {
     "model_module": "@jupyter-widgets/controls",
     "model_module_version": "1.5.0",
     "model_name": "ProgressStyleModel",
     "state": {
      "_model_module": "@jupyter-widgets/controls",
      "_model_module_version": "1.5.0",
      "_model_name": "ProgressStyleModel",
      "_view_count": null,
      "_view_module": "@jupyter-widgets/base",
      "_view_module_version": "1.2.0",
      "_view_name": "StyleView",
      "bar_color": null,
      "description_width": ""
     }
    },
    "532be3d900904a29aa93558685867915": {
     "model_module": "@jupyter-widgets/controls",
     "model_module_version": "1.5.0",
     "model_name": "HBoxModel",
     "state": {
      "_dom_classes": [],
      "_model_module": "@jupyter-widgets/controls",
      "_model_module_version": "1.5.0",
      "_model_name": "HBoxModel",
      "_view_count": null,
      "_view_module": "@jupyter-widgets/controls",
      "_view_module_version": "1.5.0",
      "_view_name": "HBoxView",
      "box_style": "",
      "children": [
       "IPY_MODEL_990a31e6827b46e48fd386913ad3837f",
       "IPY_MODEL_481ebd356d114d5cb44fdc5334dd37b0",
       "IPY_MODEL_d90625f733b74e3db3ed961012078d5b"
      ],
      "layout": "IPY_MODEL_b30153ea49e84394860c7841da627370"
     }
    },
    "5331726bf9154b43a5066bee62c788e0": {
     "model_module": "@jupyter-widgets/controls",
     "model_module_version": "1.5.0",
     "model_name": "HBoxModel",
     "state": {
      "_dom_classes": [],
      "_model_module": "@jupyter-widgets/controls",
      "_model_module_version": "1.5.0",
      "_model_name": "HBoxModel",
      "_view_count": null,
      "_view_module": "@jupyter-widgets/controls",
      "_view_module_version": "1.5.0",
      "_view_name": "HBoxView",
      "box_style": "",
      "children": [
       "IPY_MODEL_b0288f2b86434ea9b076468aff41658e",
       "IPY_MODEL_0fde73305de44fbd94760d0ea3e1a17b",
       "IPY_MODEL_c97ff76e4c60478c9bb3e3db337b5b56"
      ],
      "layout": "IPY_MODEL_6d2a0f3da73a4272bc424f13ac8dbd0b"
     }
    },
    "580dbac7c89141b2972e69b264092619": {
     "model_module": "@jupyter-widgets/controls",
     "model_module_version": "1.5.0",
     "model_name": "HBoxModel",
     "state": {
      "_dom_classes": [],
      "_model_module": "@jupyter-widgets/controls",
      "_model_module_version": "1.5.0",
      "_model_name": "HBoxModel",
      "_view_count": null,
      "_view_module": "@jupyter-widgets/controls",
      "_view_module_version": "1.5.0",
      "_view_name": "HBoxView",
      "box_style": "",
      "children": [
       "IPY_MODEL_68d1b8a8fa7f42ee8927a436e7e8a1ac",
       "IPY_MODEL_66fc5056cb30443abdac0aa3f9601771",
       "IPY_MODEL_7127664762f44e4db4a0f6e5cf9f3b61"
      ],
      "layout": "IPY_MODEL_e95491e953d44f76af463be70ba4e545"
     }
    },
    "5b055d40cc06436fa6d0c7ad3a428893": {
     "model_module": "@jupyter-widgets/controls",
     "model_module_version": "1.5.0",
     "model_name": "DescriptionStyleModel",
     "state": {
      "_model_module": "@jupyter-widgets/controls",
      "_model_module_version": "1.5.0",
      "_model_name": "DescriptionStyleModel",
      "_view_count": null,
      "_view_module": "@jupyter-widgets/base",
      "_view_module_version": "1.2.0",
      "_view_name": "StyleView",
      "description_width": ""
     }
    },
    "62bd56c1d34c4d149b6a110e09357b97": {
     "model_module": "@jupyter-widgets/base",
     "model_module_version": "1.2.0",
     "model_name": "LayoutModel",
     "state": {
      "_model_module": "@jupyter-widgets/base",
      "_model_module_version": "1.2.0",
      "_model_name": "LayoutModel",
      "_view_count": null,
      "_view_module": "@jupyter-widgets/base",
      "_view_module_version": "1.2.0",
      "_view_name": "LayoutView",
      "align_content": null,
      "align_items": null,
      "align_self": null,
      "border": null,
      "bottom": null,
      "display": null,
      "flex": null,
      "flex_flow": null,
      "grid_area": null,
      "grid_auto_columns": null,
      "grid_auto_flow": null,
      "grid_auto_rows": null,
      "grid_column": null,
      "grid_gap": null,
      "grid_row": null,
      "grid_template_areas": null,
      "grid_template_columns": null,
      "grid_template_rows": null,
      "height": null,
      "justify_content": null,
      "justify_items": null,
      "left": null,
      "margin": null,
      "max_height": null,
      "max_width": null,
      "min_height": null,
      "min_width": null,
      "object_fit": null,
      "object_position": null,
      "order": null,
      "overflow": null,
      "overflow_x": null,
      "overflow_y": null,
      "padding": null,
      "right": null,
      "top": null,
      "visibility": null,
      "width": null
     }
    },
    "64617b8380db42a28edc058348e564cf": {
     "model_module": "@jupyter-widgets/base",
     "model_module_version": "1.2.0",
     "model_name": "LayoutModel",
     "state": {
      "_model_module": "@jupyter-widgets/base",
      "_model_module_version": "1.2.0",
      "_model_name": "LayoutModel",
      "_view_count": null,
      "_view_module": "@jupyter-widgets/base",
      "_view_module_version": "1.2.0",
      "_view_name": "LayoutView",
      "align_content": null,
      "align_items": null,
      "align_self": null,
      "border": null,
      "bottom": null,
      "display": null,
      "flex": null,
      "flex_flow": null,
      "grid_area": null,
      "grid_auto_columns": null,
      "grid_auto_flow": null,
      "grid_auto_rows": null,
      "grid_column": null,
      "grid_gap": null,
      "grid_row": null,
      "grid_template_areas": null,
      "grid_template_columns": null,
      "grid_template_rows": null,
      "height": null,
      "justify_content": null,
      "justify_items": null,
      "left": null,
      "margin": null,
      "max_height": null,
      "max_width": null,
      "min_height": null,
      "min_width": null,
      "object_fit": null,
      "object_position": null,
      "order": null,
      "overflow": null,
      "overflow_x": null,
      "overflow_y": null,
      "padding": null,
      "right": null,
      "top": null,
      "visibility": null,
      "width": null
     }
    },
    "66fc5056cb30443abdac0aa3f9601771": {
     "model_module": "@jupyter-widgets/controls",
     "model_module_version": "1.5.0",
     "model_name": "FloatProgressModel",
     "state": {
      "_dom_classes": [],
      "_model_module": "@jupyter-widgets/controls",
      "_model_module_version": "1.5.0",
      "_model_name": "FloatProgressModel",
      "_view_count": null,
      "_view_module": "@jupyter-widgets/controls",
      "_view_module_version": "1.5.0",
      "_view_name": "ProgressView",
      "bar_style": "success",
      "description": "",
      "description_tooltip": null,
      "layout": "IPY_MODEL_304c4d637e89424fb78fc095aee64385",
      "max": 665,
      "min": 0,
      "orientation": "horizontal",
      "style": "IPY_MODEL_7f09eeac0b5345ee8a94308f151f4361",
      "value": 665
     }
    },
    "6840f4a0abfa40dca51ef7f5747a1612": {
     "model_module": "@jupyter-widgets/base",
     "model_module_version": "1.2.0",
     "model_name": "LayoutModel",
     "state": {
      "_model_module": "@jupyter-widgets/base",
      "_model_module_version": "1.2.0",
      "_model_name": "LayoutModel",
      "_view_count": null,
      "_view_module": "@jupyter-widgets/base",
      "_view_module_version": "1.2.0",
      "_view_name": "LayoutView",
      "align_content": null,
      "align_items": null,
      "align_self": null,
      "border": null,
      "bottom": null,
      "display": null,
      "flex": null,
      "flex_flow": null,
      "grid_area": null,
      "grid_auto_columns": null,
      "grid_auto_flow": null,
      "grid_auto_rows": null,
      "grid_column": null,
      "grid_gap": null,
      "grid_row": null,
      "grid_template_areas": null,
      "grid_template_columns": null,
      "grid_template_rows": null,
      "height": null,
      "justify_content": null,
      "justify_items": null,
      "left": null,
      "margin": null,
      "max_height": null,
      "max_width": null,
      "min_height": null,
      "min_width": null,
      "object_fit": null,
      "object_position": null,
      "order": null,
      "overflow": null,
      "overflow_x": null,
      "overflow_y": null,
      "padding": null,
      "right": null,
      "top": null,
      "visibility": null,
      "width": null
     }
    },
    "68d1b8a8fa7f42ee8927a436e7e8a1ac": {
     "model_module": "@jupyter-widgets/controls",
     "model_module_version": "1.5.0",
     "model_name": "HTMLModel",
     "state": {
      "_dom_classes": [],
      "_model_module": "@jupyter-widgets/controls",
      "_model_module_version": "1.5.0",
      "_model_name": "HTMLModel",
      "_view_count": null,
      "_view_module": "@jupyter-widgets/controls",
      "_view_module_version": "1.5.0",
      "_view_name": "HTMLView",
      "description": "",
      "description_tooltip": null,
      "layout": "IPY_MODEL_41dd750812ad4491b7fe4f68e3c9cee8",
      "placeholder": "​",
      "style": "IPY_MODEL_5b055d40cc06436fa6d0c7ad3a428893",
      "value": "Downloading: 100%"
     }
    },
    "6d2a0f3da73a4272bc424f13ac8dbd0b": {
     "model_module": "@jupyter-widgets/base",
     "model_module_version": "1.2.0",
     "model_name": "LayoutModel",
     "state": {
      "_model_module": "@jupyter-widgets/base",
      "_model_module_version": "1.2.0",
      "_model_name": "LayoutModel",
      "_view_count": null,
      "_view_module": "@jupyter-widgets/base",
      "_view_module_version": "1.2.0",
      "_view_name": "LayoutView",
      "align_content": null,
      "align_items": null,
      "align_self": null,
      "border": null,
      "bottom": null,
      "display": null,
      "flex": null,
      "flex_flow": null,
      "grid_area": null,
      "grid_auto_columns": null,
      "grid_auto_flow": null,
      "grid_auto_rows": null,
      "grid_column": null,
      "grid_gap": null,
      "grid_row": null,
      "grid_template_areas": null,
      "grid_template_columns": null,
      "grid_template_rows": null,
      "height": null,
      "justify_content": null,
      "justify_items": null,
      "left": null,
      "margin": null,
      "max_height": null,
      "max_width": null,
      "min_height": null,
      "min_width": null,
      "object_fit": null,
      "object_position": null,
      "order": null,
      "overflow": null,
      "overflow_x": null,
      "overflow_y": null,
      "padding": null,
      "right": null,
      "top": null,
      "visibility": null,
      "width": null
     }
    },
    "7127664762f44e4db4a0f6e5cf9f3b61": {
     "model_module": "@jupyter-widgets/controls",
     "model_module_version": "1.5.0",
     "model_name": "HTMLModel",
     "state": {
      "_dom_classes": [],
      "_model_module": "@jupyter-widgets/controls",
      "_model_module_version": "1.5.0",
      "_model_name": "HTMLModel",
      "_view_count": null,
      "_view_module": "@jupyter-widgets/controls",
      "_view_module_version": "1.5.0",
      "_view_name": "HTMLView",
      "description": "",
      "description_tooltip": null,
      "layout": "IPY_MODEL_81c70ad3c6b7404dbcd14c0c10458c43",
      "placeholder": "​",
      "style": "IPY_MODEL_10c41f61b4504585a53b8100cd830c17",
      "value": " 665/665 [00:00&lt;00:00, 17.2kB/s]"
     }
    },
    "7f09eeac0b5345ee8a94308f151f4361": {
     "model_module": "@jupyter-widgets/controls",
     "model_module_version": "1.5.0",
     "model_name": "ProgressStyleModel",
     "state": {
      "_model_module": "@jupyter-widgets/controls",
      "_model_module_version": "1.5.0",
      "_model_name": "ProgressStyleModel",
      "_view_count": null,
      "_view_module": "@jupyter-widgets/base",
      "_view_module_version": "1.2.0",
      "_view_name": "StyleView",
      "bar_color": null,
      "description_width": ""
     }
    },
    "81adacd7162c40528f998ecad60e9b1e": {
     "model_module": "@jupyter-widgets/base",
     "model_module_version": "1.2.0",
     "model_name": "LayoutModel",
     "state": {
      "_model_module": "@jupyter-widgets/base",
      "_model_module_version": "1.2.0",
      "_model_name": "LayoutModel",
      "_view_count": null,
      "_view_module": "@jupyter-widgets/base",
      "_view_module_version": "1.2.0",
      "_view_name": "LayoutView",
      "align_content": null,
      "align_items": null,
      "align_self": null,
      "border": null,
      "bottom": null,
      "display": null,
      "flex": null,
      "flex_flow": null,
      "grid_area": null,
      "grid_auto_columns": null,
      "grid_auto_flow": null,
      "grid_auto_rows": null,
      "grid_column": null,
      "grid_gap": null,
      "grid_row": null,
      "grid_template_areas": null,
      "grid_template_columns": null,
      "grid_template_rows": null,
      "height": null,
      "justify_content": null,
      "justify_items": null,
      "left": null,
      "margin": null,
      "max_height": null,
      "max_width": null,
      "min_height": null,
      "min_width": null,
      "object_fit": null,
      "object_position": null,
      "order": null,
      "overflow": null,
      "overflow_x": null,
      "overflow_y": null,
      "padding": null,
      "right": null,
      "top": null,
      "visibility": null,
      "width": null
     }
    },
    "81c70ad3c6b7404dbcd14c0c10458c43": {
     "model_module": "@jupyter-widgets/base",
     "model_module_version": "1.2.0",
     "model_name": "LayoutModel",
     "state": {
      "_model_module": "@jupyter-widgets/base",
      "_model_module_version": "1.2.0",
      "_model_name": "LayoutModel",
      "_view_count": null,
      "_view_module": "@jupyter-widgets/base",
      "_view_module_version": "1.2.0",
      "_view_name": "LayoutView",
      "align_content": null,
      "align_items": null,
      "align_self": null,
      "border": null,
      "bottom": null,
      "display": null,
      "flex": null,
      "flex_flow": null,
      "grid_area": null,
      "grid_auto_columns": null,
      "grid_auto_flow": null,
      "grid_auto_rows": null,
      "grid_column": null,
      "grid_gap": null,
      "grid_row": null,
      "grid_template_areas": null,
      "grid_template_columns": null,
      "grid_template_rows": null,
      "height": null,
      "justify_content": null,
      "justify_items": null,
      "left": null,
      "margin": null,
      "max_height": null,
      "max_width": null,
      "min_height": null,
      "min_width": null,
      "object_fit": null,
      "object_position": null,
      "order": null,
      "overflow": null,
      "overflow_x": null,
      "overflow_y": null,
      "padding": null,
      "right": null,
      "top": null,
      "visibility": null,
      "width": null
     }
    },
    "85330ddad2874a1097a0fae127780b7f": {
     "model_module": "@jupyter-widgets/controls",
     "model_module_version": "1.5.0",
     "model_name": "HBoxModel",
     "state": {
      "_dom_classes": [],
      "_model_module": "@jupyter-widgets/controls",
      "_model_module_version": "1.5.0",
      "_model_name": "HBoxModel",
      "_view_count": null,
      "_view_module": "@jupyter-widgets/controls",
      "_view_module_version": "1.5.0",
      "_view_name": "HBoxView",
      "box_style": "",
      "children": [
       "IPY_MODEL_04fcb603cd69463680046b285ede8031",
       "IPY_MODEL_1a5f59a492c54c7aab2ee2cad1c4c0d5",
       "IPY_MODEL_085ce541d4b741dfbaf56656fc7f6c05"
      ],
      "layout": "IPY_MODEL_3fc963f65ea948008fe7d4790ef2e24b"
     }
    },
    "990a31e6827b46e48fd386913ad3837f": {
     "model_module": "@jupyter-widgets/controls",
     "model_module_version": "1.5.0",
     "model_name": "HTMLModel",
     "state": {
      "_dom_classes": [],
      "_model_module": "@jupyter-widgets/controls",
      "_model_module_version": "1.5.0",
      "_model_name": "HTMLModel",
      "_view_count": null,
      "_view_module": "@jupyter-widgets/controls",
      "_view_module_version": "1.5.0",
      "_view_name": "HTMLView",
      "description": "",
      "description_tooltip": null,
      "layout": "IPY_MODEL_eb1abedc1d6f46d5944ff146dbecebb1",
      "placeholder": "​",
      "style": "IPY_MODEL_f8ecbd81b44c453bb58d75580fe89d05",
      "value": "Downloading: 100%"
     }
    },
    "99f4ba6036084b7dafb0f3ea409688c0": {
     "model_module": "@jupyter-widgets/base",
     "model_module_version": "1.2.0",
     "model_name": "LayoutModel",
     "state": {
      "_model_module": "@jupyter-widgets/base",
      "_model_module_version": "1.2.0",
      "_model_name": "LayoutModel",
      "_view_count": null,
      "_view_module": "@jupyter-widgets/base",
      "_view_module_version": "1.2.0",
      "_view_name": "LayoutView",
      "align_content": null,
      "align_items": null,
      "align_self": null,
      "border": null,
      "bottom": null,
      "display": null,
      "flex": null,
      "flex_flow": null,
      "grid_area": null,
      "grid_auto_columns": null,
      "grid_auto_flow": null,
      "grid_auto_rows": null,
      "grid_column": null,
      "grid_gap": null,
      "grid_row": null,
      "grid_template_areas": null,
      "grid_template_columns": null,
      "grid_template_rows": null,
      "height": null,
      "justify_content": null,
      "justify_items": null,
      "left": null,
      "margin": null,
      "max_height": null,
      "max_width": null,
      "min_height": null,
      "min_width": null,
      "object_fit": null,
      "object_position": null,
      "order": null,
      "overflow": null,
      "overflow_x": null,
      "overflow_y": null,
      "padding": null,
      "right": null,
      "top": null,
      "visibility": null,
      "width": null
     }
    },
    "b0288f2b86434ea9b076468aff41658e": {
     "model_module": "@jupyter-widgets/controls",
     "model_module_version": "1.5.0",
     "model_name": "HTMLModel",
     "state": {
      "_dom_classes": [],
      "_model_module": "@jupyter-widgets/controls",
      "_model_module_version": "1.5.0",
      "_model_name": "HTMLModel",
      "_view_count": null,
      "_view_module": "@jupyter-widgets/controls",
      "_view_module_version": "1.5.0",
      "_view_name": "HTMLView",
      "description": "",
      "description_tooltip": null,
      "layout": "IPY_MODEL_075a9035ec6f4b5f9c821fab3083511a",
      "placeholder": "​",
      "style": "IPY_MODEL_c3fd9cf8d5ea457ea0650b1dc1762628",
      "value": "Downloading: 100%"
     }
    },
    "b30153ea49e84394860c7841da627370": {
     "model_module": "@jupyter-widgets/base",
     "model_module_version": "1.2.0",
     "model_name": "LayoutModel",
     "state": {
      "_model_module": "@jupyter-widgets/base",
      "_model_module_version": "1.2.0",
      "_model_name": "LayoutModel",
      "_view_count": null,
      "_view_module": "@jupyter-widgets/base",
      "_view_module_version": "1.2.0",
      "_view_name": "LayoutView",
      "align_content": null,
      "align_items": null,
      "align_self": null,
      "border": null,
      "bottom": null,
      "display": null,
      "flex": null,
      "flex_flow": null,
      "grid_area": null,
      "grid_auto_columns": null,
      "grid_auto_flow": null,
      "grid_auto_rows": null,
      "grid_column": null,
      "grid_gap": null,
      "grid_row": null,
      "grid_template_areas": null,
      "grid_template_columns": null,
      "grid_template_rows": null,
      "height": null,
      "justify_content": null,
      "justify_items": null,
      "left": null,
      "margin": null,
      "max_height": null,
      "max_width": null,
      "min_height": null,
      "min_width": null,
      "object_fit": null,
      "object_position": null,
      "order": null,
      "overflow": null,
      "overflow_x": null,
      "overflow_y": null,
      "padding": null,
      "right": null,
      "top": null,
      "visibility": null,
      "width": null
     }
    },
    "c3fd9cf8d5ea457ea0650b1dc1762628": {
     "model_module": "@jupyter-widgets/controls",
     "model_module_version": "1.5.0",
     "model_name": "DescriptionStyleModel",
     "state": {
      "_model_module": "@jupyter-widgets/controls",
      "_model_module_version": "1.5.0",
      "_model_name": "DescriptionStyleModel",
      "_view_count": null,
      "_view_module": "@jupyter-widgets/base",
      "_view_module_version": "1.2.0",
      "_view_name": "StyleView",
      "description_width": ""
     }
    },
    "c97ff76e4c60478c9bb3e3db337b5b56": {
     "model_module": "@jupyter-widgets/controls",
     "model_module_version": "1.5.0",
     "model_name": "HTMLModel",
     "state": {
      "_dom_classes": [],
      "_model_module": "@jupyter-widgets/controls",
      "_model_module_version": "1.5.0",
      "_model_name": "HTMLModel",
      "_view_count": null,
      "_view_module": "@jupyter-widgets/controls",
      "_view_module_version": "1.5.0",
      "_view_name": "HTMLView",
      "description": "",
      "description_tooltip": null,
      "layout": "IPY_MODEL_62bd56c1d34c4d149b6a110e09357b97",
      "placeholder": "​",
      "style": "IPY_MODEL_282531fbc28e438c8b1228b4b40a8c7c",
      "value": " 456k/456k [00:01&lt;00:00, 517kB/s]"
     }
    },
    "d90625f733b74e3db3ed961012078d5b": {
     "model_module": "@jupyter-widgets/controls",
     "model_module_version": "1.5.0",
     "model_name": "HTMLModel",
     "state": {
      "_dom_classes": [],
      "_model_module": "@jupyter-widgets/controls",
      "_model_module_version": "1.5.0",
      "_model_name": "HTMLModel",
      "_view_count": null,
      "_view_module": "@jupyter-widgets/controls",
      "_view_module_version": "1.5.0",
      "_view_name": "HTMLView",
      "description": "",
      "description_tooltip": null,
      "layout": "IPY_MODEL_2faebd742ec7420e808145300b920326",
      "placeholder": "​",
      "style": "IPY_MODEL_10fcecf139e1487daf09f576b46fb8b9",
      "value": " 1.04M/1.04M [00:01&lt;00:00, 956kB/s]"
     }
    },
    "dc71aebdc0f44287a2d28aa2dfc5de67": {
     "model_module": "@jupyter-widgets/controls",
     "model_module_version": "1.5.0",
     "model_name": "ProgressStyleModel",
     "state": {
      "_model_module": "@jupyter-widgets/controls",
      "_model_module_version": "1.5.0",
      "_model_name": "ProgressStyleModel",
      "_view_count": null,
      "_view_module": "@jupyter-widgets/base",
      "_view_module_version": "1.2.0",
      "_view_name": "StyleView",
      "bar_color": null,
      "description_width": ""
     }
    },
    "e95491e953d44f76af463be70ba4e545": {
     "model_module": "@jupyter-widgets/base",
     "model_module_version": "1.2.0",
     "model_name": "LayoutModel",
     "state": {
      "_model_module": "@jupyter-widgets/base",
      "_model_module_version": "1.2.0",
      "_model_name": "LayoutModel",
      "_view_count": null,
      "_view_module": "@jupyter-widgets/base",
      "_view_module_version": "1.2.0",
      "_view_name": "LayoutView",
      "align_content": null,
      "align_items": null,
      "align_self": null,
      "border": null,
      "bottom": null,
      "display": null,
      "flex": null,
      "flex_flow": null,
      "grid_area": null,
      "grid_auto_columns": null,
      "grid_auto_flow": null,
      "grid_auto_rows": null,
      "grid_column": null,
      "grid_gap": null,
      "grid_row": null,
      "grid_template_areas": null,
      "grid_template_columns": null,
      "grid_template_rows": null,
      "height": null,
      "justify_content": null,
      "justify_items": null,
      "left": null,
      "margin": null,
      "max_height": null,
      "max_width": null,
      "min_height": null,
      "min_width": null,
      "object_fit": null,
      "object_position": null,
      "order": null,
      "overflow": null,
      "overflow_x": null,
      "overflow_y": null,
      "padding": null,
      "right": null,
      "top": null,
      "visibility": null,
      "width": null
     }
    },
    "e9da2e852d6d413e8dcc87aa92dadc27": {
     "model_module": "@jupyter-widgets/controls",
     "model_module_version": "1.5.0",
     "model_name": "DescriptionStyleModel",
     "state": {
      "_model_module": "@jupyter-widgets/controls",
      "_model_module_version": "1.5.0",
      "_model_name": "DescriptionStyleModel",
      "_view_count": null,
      "_view_module": "@jupyter-widgets/base",
      "_view_module_version": "1.2.0",
      "_view_name": "StyleView",
      "description_width": ""
     }
    },
    "eb1abedc1d6f46d5944ff146dbecebb1": {
     "model_module": "@jupyter-widgets/base",
     "model_module_version": "1.2.0",
     "model_name": "LayoutModel",
     "state": {
      "_model_module": "@jupyter-widgets/base",
      "_model_module_version": "1.2.0",
      "_model_name": "LayoutModel",
      "_view_count": null,
      "_view_module": "@jupyter-widgets/base",
      "_view_module_version": "1.2.0",
      "_view_name": "LayoutView",
      "align_content": null,
      "align_items": null,
      "align_self": null,
      "border": null,
      "bottom": null,
      "display": null,
      "flex": null,
      "flex_flow": null,
      "grid_area": null,
      "grid_auto_columns": null,
      "grid_auto_flow": null,
      "grid_auto_rows": null,
      "grid_column": null,
      "grid_gap": null,
      "grid_row": null,
      "grid_template_areas": null,
      "grid_template_columns": null,
      "grid_template_rows": null,
      "height": null,
      "justify_content": null,
      "justify_items": null,
      "left": null,
      "margin": null,
      "max_height": null,
      "max_width": null,
      "min_height": null,
      "min_width": null,
      "object_fit": null,
      "object_position": null,
      "order": null,
      "overflow": null,
      "overflow_x": null,
      "overflow_y": null,
      "padding": null,
      "right": null,
      "top": null,
      "visibility": null,
      "width": null
     }
    },
    "f59be919579e4d17b135659fbeab3f29": {
     "model_module": "@jupyter-widgets/controls",
     "model_module_version": "1.5.0",
     "model_name": "ProgressStyleModel",
     "state": {
      "_model_module": "@jupyter-widgets/controls",
      "_model_module_version": "1.5.0",
      "_model_name": "ProgressStyleModel",
      "_view_count": null,
      "_view_module": "@jupyter-widgets/base",
      "_view_module_version": "1.2.0",
      "_view_name": "StyleView",
      "bar_color": null,
      "description_width": ""
     }
    },
    "f8ecbd81b44c453bb58d75580fe89d05": {
     "model_module": "@jupyter-widgets/controls",
     "model_module_version": "1.5.0",
     "model_name": "DescriptionStyleModel",
     "state": {
      "_model_module": "@jupyter-widgets/controls",
      "_model_module_version": "1.5.0",
      "_model_name": "DescriptionStyleModel",
      "_view_count": null,
      "_view_module": "@jupyter-widgets/base",
      "_view_module_version": "1.2.0",
      "_view_name": "StyleView",
      "description_width": ""
     }
    }
   }
  }
 },
 "nbformat": 4,
 "nbformat_minor": 1
}
